{
 "cells": [
  {
   "cell_type": "code",
   "execution_count": 2,
   "id": "95abb905",
   "metadata": {},
   "outputs": [],
   "source": [
    "import pandas as pd\n",
    "from matplotlib import pyplot as plt\n",
    "import numpy as np\n"
   ]
  },
  {
   "cell_type": "code",
   "execution_count": null,
   "id": "0bdbcb4d",
   "metadata": {},
   "outputs": [],
   "source": []
  },
  {
   "cell_type": "code",
   "execution_count": 3,
   "id": "98eb7ff3",
   "metadata": {},
   "outputs": [],
   "source": [
    "df_1=pd.read_excel('통합 문서1.xlsx')"
   ]
  },
  {
   "cell_type": "code",
   "execution_count": 4,
   "id": "9e5c71a9",
   "metadata": {
    "scrolled": true
   },
   "outputs": [
    {
     "data": {
      "text/html": [
       "<div>\n",
       "<style scoped>\n",
       "    .dataframe tbody tr th:only-of-type {\n",
       "        vertical-align: middle;\n",
       "    }\n",
       "\n",
       "    .dataframe tbody tr th {\n",
       "        vertical-align: top;\n",
       "    }\n",
       "\n",
       "    .dataframe thead th {\n",
       "        text-align: right;\n",
       "    }\n",
       "</style>\n",
       "<table border=\"1\" class=\"dataframe\">\n",
       "  <thead>\n",
       "    <tr style=\"text-align: right;\">\n",
       "      <th></th>\n",
       "      <th>기간</th>\n",
       "      <th>한국 수출금액</th>\n",
       "      <th>한국의대중국수출</th>\n",
       "      <th>한국의대미국수출</th>\n",
       "      <th>한국의대베트남수출</th>\n",
       "      <th>한국의대홍콩수출</th>\n",
       "      <th>한국의대일본수출</th>\n",
       "    </tr>\n",
       "  </thead>\n",
       "  <tbody>\n",
       "    <tr>\n",
       "      <th>0</th>\n",
       "      <td>2000-01-01</td>\n",
       "      <td>12162424632</td>\n",
       "      <td>1235215271</td>\n",
       "      <td>2609787984</td>\n",
       "      <td>109742698</td>\n",
       "      <td>782348732</td>\n",
       "      <td>1551722070</td>\n",
       "    </tr>\n",
       "    <tr>\n",
       "      <th>1</th>\n",
       "      <td>2000-02-01</td>\n",
       "      <td>12676042304</td>\n",
       "      <td>1273117309</td>\n",
       "      <td>2554309883</td>\n",
       "      <td>112395157</td>\n",
       "      <td>823990122</td>\n",
       "      <td>1518844843</td>\n",
       "    </tr>\n",
       "    <tr>\n",
       "      <th>2</th>\n",
       "      <td>2000-03-01</td>\n",
       "      <td>14429703086</td>\n",
       "      <td>1437377223</td>\n",
       "      <td>2946820669</td>\n",
       "      <td>150134562</td>\n",
       "      <td>911648256</td>\n",
       "      <td>1783564618</td>\n",
       "    </tr>\n",
       "    <tr>\n",
       "      <th>3</th>\n",
       "      <td>2000-04-01</td>\n",
       "      <td>13522040017</td>\n",
       "      <td>1366876604</td>\n",
       "      <td>2698029849</td>\n",
       "      <td>169146208</td>\n",
       "      <td>863243219</td>\n",
       "      <td>1582707525</td>\n",
       "    </tr>\n",
       "    <tr>\n",
       "      <th>4</th>\n",
       "      <td>2000-05-01</td>\n",
       "      <td>14636754971</td>\n",
       "      <td>1663240667</td>\n",
       "      <td>3167181403</td>\n",
       "      <td>169411680</td>\n",
       "      <td>887081090</td>\n",
       "      <td>1671039709</td>\n",
       "    </tr>\n",
       "  </tbody>\n",
       "</table>\n",
       "</div>"
      ],
      "text/plain": [
       "          기간      한국 수출금액    한국의대중국수출    한국의대미국수출  한국의대베트남수출   한국의대홍콩수출  \\\n",
       "0 2000-01-01  12162424632  1235215271  2609787984  109742698  782348732   \n",
       "1 2000-02-01  12676042304  1273117309  2554309883  112395157  823990122   \n",
       "2 2000-03-01  14429703086  1437377223  2946820669  150134562  911648256   \n",
       "3 2000-04-01  13522040017  1366876604  2698029849  169146208  863243219   \n",
       "4 2000-05-01  14636754971  1663240667  3167181403  169411680  887081090   \n",
       "\n",
       "     한국의대일본수출  \n",
       "0  1551722070  \n",
       "1  1518844843  \n",
       "2  1783564618  \n",
       "3  1582707525  \n",
       "4  1671039709  "
      ]
     },
     "execution_count": 4,
     "metadata": {},
     "output_type": "execute_result"
    }
   ],
   "source": [
    "df_1.head()"
   ]
  },
  {
   "cell_type": "code",
   "execution_count": 5,
   "id": "e37e1e8c",
   "metadata": {},
   "outputs": [
    {
     "data": {
      "text/html": [
       "<div>\n",
       "<style scoped>\n",
       "    .dataframe tbody tr th:only-of-type {\n",
       "        vertical-align: middle;\n",
       "    }\n",
       "\n",
       "    .dataframe tbody tr th {\n",
       "        vertical-align: top;\n",
       "    }\n",
       "\n",
       "    .dataframe thead th {\n",
       "        text-align: right;\n",
       "    }\n",
       "</style>\n",
       "<table border=\"1\" class=\"dataframe\">\n",
       "  <thead>\n",
       "    <tr style=\"text-align: right;\">\n",
       "      <th></th>\n",
       "      <th>기간</th>\n",
       "      <th>한국 수출금액</th>\n",
       "      <th>한국의대중국수출</th>\n",
       "      <th>한국의대미국수출</th>\n",
       "      <th>한국의대베트남수출</th>\n",
       "      <th>한국의대홍콩수출</th>\n",
       "      <th>한국의대일본수출</th>\n",
       "    </tr>\n",
       "  </thead>\n",
       "  <tbody>\n",
       "    <tr>\n",
       "      <th>259</th>\n",
       "      <td>2021-08-01</td>\n",
       "      <td>53165103786</td>\n",
       "      <td>13881327880</td>\n",
       "      <td>7704223847</td>\n",
       "      <td>4850337611</td>\n",
       "      <td>3415828590</td>\n",
       "      <td>2522980082</td>\n",
       "    </tr>\n",
       "    <tr>\n",
       "      <th>260</th>\n",
       "      <td>2021-09-01</td>\n",
       "      <td>55913862375</td>\n",
       "      <td>14291980345</td>\n",
       "      <td>7983934107</td>\n",
       "      <td>5101701490</td>\n",
       "      <td>3852088155</td>\n",
       "      <td>2541017857</td>\n",
       "    </tr>\n",
       "    <tr>\n",
       "      <th>261</th>\n",
       "      <td>2021-10-01</td>\n",
       "      <td>55660372637</td>\n",
       "      <td>14415867215</td>\n",
       "      <td>8066782602</td>\n",
       "      <td>4904971459</td>\n",
       "      <td>2739662629</td>\n",
       "      <td>2614683864</td>\n",
       "    </tr>\n",
       "    <tr>\n",
       "      <th>262</th>\n",
       "      <td>2021-11-01</td>\n",
       "      <td>60330542263</td>\n",
       "      <td>15272549044</td>\n",
       "      <td>8133640339</td>\n",
       "      <td>5478296945</td>\n",
       "      <td>3232583381</td>\n",
       "      <td>2813250497</td>\n",
       "    </tr>\n",
       "    <tr>\n",
       "      <th>263</th>\n",
       "      <td>2021-12-01</td>\n",
       "      <td>60734116670</td>\n",
       "      <td>15342562681</td>\n",
       "      <td>8787542044</td>\n",
       "      <td>5617022808</td>\n",
       "      <td>3444272573</td>\n",
       "      <td>2712571429</td>\n",
       "    </tr>\n",
       "  </tbody>\n",
       "</table>\n",
       "</div>"
      ],
      "text/plain": [
       "            기간      한국 수출금액     한국의대중국수출    한국의대미국수출   한국의대베트남수출    한국의대홍콩수출  \\\n",
       "259 2021-08-01  53165103786  13881327880  7704223847  4850337611  3415828590   \n",
       "260 2021-09-01  55913862375  14291980345  7983934107  5101701490  3852088155   \n",
       "261 2021-10-01  55660372637  14415867215  8066782602  4904971459  2739662629   \n",
       "262 2021-11-01  60330542263  15272549044  8133640339  5478296945  3232583381   \n",
       "263 2021-12-01  60734116670  15342562681  8787542044  5617022808  3444272573   \n",
       "\n",
       "       한국의대일본수출  \n",
       "259  2522980082  \n",
       "260  2541017857  \n",
       "261  2614683864  \n",
       "262  2813250497  \n",
       "263  2712571429  "
      ]
     },
     "execution_count": 5,
     "metadata": {},
     "output_type": "execute_result"
    }
   ],
   "source": [
    "df_1.tail()"
   ]
  },
  {
   "cell_type": "code",
   "execution_count": 6,
   "id": "d91e8177",
   "metadata": {},
   "outputs": [
    {
     "data": {
      "text/plain": [
       "Index(['기간', '한국 수출금액', '한국의대중국수출', '한국의대미국수출', '한국의대베트남수출', '한국의대홍콩수출',\n",
       "       '한국의대일본수출'],\n",
       "      dtype='object')"
      ]
     },
     "execution_count": 6,
     "metadata": {},
     "output_type": "execute_result"
    }
   ],
   "source": [
    "df_1.columns"
   ]
  },
  {
   "cell_type": "code",
   "execution_count": 7,
   "id": "edf22d75",
   "metadata": {
    "scrolled": true
   },
   "outputs": [
    {
     "data": {
      "text/html": [
       "<div>\n",
       "<style scoped>\n",
       "    .dataframe tbody tr th:only-of-type {\n",
       "        vertical-align: middle;\n",
       "    }\n",
       "\n",
       "    .dataframe tbody tr th {\n",
       "        vertical-align: top;\n",
       "    }\n",
       "\n",
       "    .dataframe thead th {\n",
       "        text-align: right;\n",
       "    }\n",
       "</style>\n",
       "<table border=\"1\" class=\"dataframe\">\n",
       "  <thead>\n",
       "    <tr style=\"text-align: right;\">\n",
       "      <th></th>\n",
       "      <th>한국 수출금액</th>\n",
       "      <th>한국의대중국수출</th>\n",
       "      <th>한국의대미국수출</th>\n",
       "      <th>한국의대베트남수출</th>\n",
       "      <th>한국의대홍콩수출</th>\n",
       "      <th>한국의대일본수출</th>\n",
       "    </tr>\n",
       "  </thead>\n",
       "  <tbody>\n",
       "    <tr>\n",
       "      <th>count</th>\n",
       "      <td>2.640000e+02</td>\n",
       "      <td>2.640000e+02</td>\n",
       "      <td>2.640000e+02</td>\n",
       "      <td>2.640000e+02</td>\n",
       "      <td>2.640000e+02</td>\n",
       "      <td>2.640000e+02</td>\n",
       "    </tr>\n",
       "    <tr>\n",
       "      <th>mean</th>\n",
       "      <td>3.523252e+10</td>\n",
       "      <td>8.373895e+09</td>\n",
       "      <td>4.586592e+09</td>\n",
       "      <td>1.637289e+09</td>\n",
       "      <td>2.075410e+09</td>\n",
       "      <td>2.206066e+09</td>\n",
       "    </tr>\n",
       "    <tr>\n",
       "      <th>std</th>\n",
       "      <td>1.337332e+10</td>\n",
       "      <td>4.046707e+09</td>\n",
       "      <td>1.478022e+09</td>\n",
       "      <td>1.568664e+09</td>\n",
       "      <td>8.645194e+08</td>\n",
       "      <td>5.579356e+08</td>\n",
       "    </tr>\n",
       "    <tr>\n",
       "      <th>min</th>\n",
       "      <td>1.102304e+10</td>\n",
       "      <td>1.235215e+09</td>\n",
       "      <td>2.267664e+09</td>\n",
       "      <td>9.483084e+07</td>\n",
       "      <td>6.580252e+08</td>\n",
       "      <td>1.054723e+09</td>\n",
       "    </tr>\n",
       "    <tr>\n",
       "      <th>25%</th>\n",
       "      <td>2.325228e+10</td>\n",
       "      <td>4.910558e+09</td>\n",
       "      <td>3.380042e+09</td>\n",
       "      <td>3.000869e+08</td>\n",
       "      <td>1.395521e+09</td>\n",
       "      <td>1.845121e+09</td>\n",
       "    </tr>\n",
       "    <tr>\n",
       "      <th>50%</th>\n",
       "      <td>3.939702e+10</td>\n",
       "      <td>9.678116e+09</td>\n",
       "      <td>4.392580e+09</td>\n",
       "      <td>9.739663e+08</td>\n",
       "      <td>2.132129e+09</td>\n",
       "      <td>2.181504e+09</td>\n",
       "    </tr>\n",
       "    <tr>\n",
       "      <th>75%</th>\n",
       "      <td>4.631255e+10</td>\n",
       "      <td>1.165777e+10</td>\n",
       "      <td>5.726193e+09</td>\n",
       "      <td>2.755565e+09</td>\n",
       "      <td>2.651957e+09</td>\n",
       "      <td>2.521424e+09</td>\n",
       "    </tr>\n",
       "    <tr>\n",
       "      <th>max</th>\n",
       "      <td>6.073412e+10</td>\n",
       "      <td>1.534256e+10</td>\n",
       "      <td>8.787542e+09</td>\n",
       "      <td>5.617023e+09</td>\n",
       "      <td>4.903221e+09</td>\n",
       "      <td>3.719723e+09</td>\n",
       "    </tr>\n",
       "  </tbody>\n",
       "</table>\n",
       "</div>"
      ],
      "text/plain": [
       "            한국 수출금액      한국의대중국수출      한국의대미국수출     한국의대베트남수출      한국의대홍콩수출  \\\n",
       "count  2.640000e+02  2.640000e+02  2.640000e+02  2.640000e+02  2.640000e+02   \n",
       "mean   3.523252e+10  8.373895e+09  4.586592e+09  1.637289e+09  2.075410e+09   \n",
       "std    1.337332e+10  4.046707e+09  1.478022e+09  1.568664e+09  8.645194e+08   \n",
       "min    1.102304e+10  1.235215e+09  2.267664e+09  9.483084e+07  6.580252e+08   \n",
       "25%    2.325228e+10  4.910558e+09  3.380042e+09  3.000869e+08  1.395521e+09   \n",
       "50%    3.939702e+10  9.678116e+09  4.392580e+09  9.739663e+08  2.132129e+09   \n",
       "75%    4.631255e+10  1.165777e+10  5.726193e+09  2.755565e+09  2.651957e+09   \n",
       "max    6.073412e+10  1.534256e+10  8.787542e+09  5.617023e+09  4.903221e+09   \n",
       "\n",
       "           한국의대일본수출  \n",
       "count  2.640000e+02  \n",
       "mean   2.206066e+09  \n",
       "std    5.579356e+08  \n",
       "min    1.054723e+09  \n",
       "25%    1.845121e+09  \n",
       "50%    2.181504e+09  \n",
       "75%    2.521424e+09  \n",
       "max    3.719723e+09  "
      ]
     },
     "execution_count": 7,
     "metadata": {},
     "output_type": "execute_result"
    }
   ],
   "source": [
    "df_1.describe()"
   ]
  },
  {
   "cell_type": "code",
   "execution_count": 8,
   "id": "769238d2",
   "metadata": {},
   "outputs": [
    {
     "name": "stdout",
     "output_type": "stream",
     "text": [
      "<class 'pandas.core.frame.DataFrame'>\n",
      "RangeIndex: 264 entries, 0 to 263\n",
      "Data columns (total 7 columns):\n",
      " #   Column     Non-Null Count  Dtype         \n",
      "---  ------     --------------  -----         \n",
      " 0   기간         264 non-null    datetime64[ns]\n",
      " 1   한국 수출금액    264 non-null    int64         \n",
      " 2   한국의대중국수출   264 non-null    int64         \n",
      " 3   한국의대미국수출   264 non-null    int64         \n",
      " 4   한국의대베트남수출  264 non-null    int64         \n",
      " 5   한국의대홍콩수출   264 non-null    int64         \n",
      " 6   한국의대일본수출   264 non-null    int64         \n",
      "dtypes: datetime64[ns](1), int64(6)\n",
      "memory usage: 14.6 KB\n"
     ]
    }
   ],
   "source": [
    "df_1.info()"
   ]
  },
  {
   "cell_type": "code",
   "execution_count": 9,
   "id": "a2eaeba2",
   "metadata": {},
   "outputs": [
    {
     "data": {
      "text/html": [
       "<div>\n",
       "<style scoped>\n",
       "    .dataframe tbody tr th:only-of-type {\n",
       "        vertical-align: middle;\n",
       "    }\n",
       "\n",
       "    .dataframe tbody tr th {\n",
       "        vertical-align: top;\n",
       "    }\n",
       "\n",
       "    .dataframe thead th {\n",
       "        text-align: right;\n",
       "    }\n",
       "</style>\n",
       "<table border=\"1\" class=\"dataframe\">\n",
       "  <thead>\n",
       "    <tr style=\"text-align: right;\">\n",
       "      <th></th>\n",
       "      <th>기간</th>\n",
       "      <th>한국 수출금액</th>\n",
       "      <th>한국의대중국수출</th>\n",
       "      <th>한국의대미국수출</th>\n",
       "      <th>한국의대베트남수출</th>\n",
       "      <th>한국의대홍콩수출</th>\n",
       "      <th>한국의대일본수출</th>\n",
       "    </tr>\n",
       "  </thead>\n",
       "  <tbody>\n",
       "    <tr>\n",
       "      <th>0</th>\n",
       "      <td>2000-01-01</td>\n",
       "      <td>12162424632</td>\n",
       "      <td>1235215271</td>\n",
       "      <td>2609787984</td>\n",
       "      <td>109742698</td>\n",
       "      <td>782348732</td>\n",
       "      <td>1551722070</td>\n",
       "    </tr>\n",
       "    <tr>\n",
       "      <th>1</th>\n",
       "      <td>2000-02-01</td>\n",
       "      <td>12676042304</td>\n",
       "      <td>1273117309</td>\n",
       "      <td>2554309883</td>\n",
       "      <td>112395157</td>\n",
       "      <td>823990122</td>\n",
       "      <td>1518844843</td>\n",
       "    </tr>\n",
       "    <tr>\n",
       "      <th>2</th>\n",
       "      <td>2000-03-01</td>\n",
       "      <td>14429703086</td>\n",
       "      <td>1437377223</td>\n",
       "      <td>2946820669</td>\n",
       "      <td>150134562</td>\n",
       "      <td>911648256</td>\n",
       "      <td>1783564618</td>\n",
       "    </tr>\n",
       "    <tr>\n",
       "      <th>3</th>\n",
       "      <td>2000-04-01</td>\n",
       "      <td>13522040017</td>\n",
       "      <td>1366876604</td>\n",
       "      <td>2698029849</td>\n",
       "      <td>169146208</td>\n",
       "      <td>863243219</td>\n",
       "      <td>1582707525</td>\n",
       "    </tr>\n",
       "    <tr>\n",
       "      <th>4</th>\n",
       "      <td>2000-05-01</td>\n",
       "      <td>14636754971</td>\n",
       "      <td>1663240667</td>\n",
       "      <td>3167181403</td>\n",
       "      <td>169411680</td>\n",
       "      <td>887081090</td>\n",
       "      <td>1671039709</td>\n",
       "    </tr>\n",
       "    <tr>\n",
       "      <th>...</th>\n",
       "      <td>...</td>\n",
       "      <td>...</td>\n",
       "      <td>...</td>\n",
       "      <td>...</td>\n",
       "      <td>...</td>\n",
       "      <td>...</td>\n",
       "      <td>...</td>\n",
       "    </tr>\n",
       "    <tr>\n",
       "      <th>259</th>\n",
       "      <td>2021-08-01</td>\n",
       "      <td>53165103786</td>\n",
       "      <td>13881327880</td>\n",
       "      <td>7704223847</td>\n",
       "      <td>4850337611</td>\n",
       "      <td>3415828590</td>\n",
       "      <td>2522980082</td>\n",
       "    </tr>\n",
       "    <tr>\n",
       "      <th>260</th>\n",
       "      <td>2021-09-01</td>\n",
       "      <td>55913862375</td>\n",
       "      <td>14291980345</td>\n",
       "      <td>7983934107</td>\n",
       "      <td>5101701490</td>\n",
       "      <td>3852088155</td>\n",
       "      <td>2541017857</td>\n",
       "    </tr>\n",
       "    <tr>\n",
       "      <th>261</th>\n",
       "      <td>2021-10-01</td>\n",
       "      <td>55660372637</td>\n",
       "      <td>14415867215</td>\n",
       "      <td>8066782602</td>\n",
       "      <td>4904971459</td>\n",
       "      <td>2739662629</td>\n",
       "      <td>2614683864</td>\n",
       "    </tr>\n",
       "    <tr>\n",
       "      <th>262</th>\n",
       "      <td>2021-11-01</td>\n",
       "      <td>60330542263</td>\n",
       "      <td>15272549044</td>\n",
       "      <td>8133640339</td>\n",
       "      <td>5478296945</td>\n",
       "      <td>3232583381</td>\n",
       "      <td>2813250497</td>\n",
       "    </tr>\n",
       "    <tr>\n",
       "      <th>263</th>\n",
       "      <td>2021-12-01</td>\n",
       "      <td>60734116670</td>\n",
       "      <td>15342562681</td>\n",
       "      <td>8787542044</td>\n",
       "      <td>5617022808</td>\n",
       "      <td>3444272573</td>\n",
       "      <td>2712571429</td>\n",
       "    </tr>\n",
       "  </tbody>\n",
       "</table>\n",
       "<p>264 rows × 7 columns</p>\n",
       "</div>"
      ],
      "text/plain": [
       "            기간      한국 수출금액     한국의대중국수출    한국의대미국수출   한국의대베트남수출    한국의대홍콩수출  \\\n",
       "0   2000-01-01  12162424632   1235215271  2609787984   109742698   782348732   \n",
       "1   2000-02-01  12676042304   1273117309  2554309883   112395157   823990122   \n",
       "2   2000-03-01  14429703086   1437377223  2946820669   150134562   911648256   \n",
       "3   2000-04-01  13522040017   1366876604  2698029849   169146208   863243219   \n",
       "4   2000-05-01  14636754971   1663240667  3167181403   169411680   887081090   \n",
       "..         ...          ...          ...         ...         ...         ...   \n",
       "259 2021-08-01  53165103786  13881327880  7704223847  4850337611  3415828590   \n",
       "260 2021-09-01  55913862375  14291980345  7983934107  5101701490  3852088155   \n",
       "261 2021-10-01  55660372637  14415867215  8066782602  4904971459  2739662629   \n",
       "262 2021-11-01  60330542263  15272549044  8133640339  5478296945  3232583381   \n",
       "263 2021-12-01  60734116670  15342562681  8787542044  5617022808  3444272573   \n",
       "\n",
       "       한국의대일본수출  \n",
       "0    1551722070  \n",
       "1    1518844843  \n",
       "2    1783564618  \n",
       "3    1582707525  \n",
       "4    1671039709  \n",
       "..          ...  \n",
       "259  2522980082  \n",
       "260  2541017857  \n",
       "261  2614683864  \n",
       "262  2813250497  \n",
       "263  2712571429  \n",
       "\n",
       "[264 rows x 7 columns]"
      ]
     },
     "execution_count": 9,
     "metadata": {},
     "output_type": "execute_result"
    }
   ],
   "source": [
    "df_1"
   ]
  },
  {
   "cell_type": "code",
   "execution_count": 10,
   "id": "f82b2197",
   "metadata": {
    "scrolled": false
   },
   "outputs": [
    {
     "data": {
      "image/png": "[encoded data removed]",
      "text/plain": [
       "<Figure size 432x288 with 1 Axes>"
      ]
     },
     "metadata": {
      "needs_background": "light"
     },
     "output_type": "display_data"
    }
   ],
   "source": [
    "x = df_1['기간']\n",
    "y = df_1['한국 수출금액']\n",
    "plt.plot(x,y)\n",
    "plt.show()\n"
   ]
  },
  {
   "cell_type": "code",
   "execution_count": 11,
   "id": "1d309174",
   "metadata": {},
   "outputs": [
    {
     "data": {
      "image/png": "[encoded data removed]",
      "text/plain": [
       "<Figure size 432x288 with 1 Axes>"
      ]
     },
     "metadata": {
      "needs_background": "light"
     },
     "output_type": "display_data"
    }
   ],
   "source": [
    "x = df_1['기간']\n",
    "y = df_1['한국 수출금액']\n",
    "plt.plot(x,y)\n",
    "y = df_1['한국의대미국수출']\n",
    "plt.plot(x,y)\n",
    "\n",
    "plt.show()\n"
   ]
  },
  {
   "cell_type": "code",
   "execution_count": 12,
   "id": "8257143b",
   "metadata": {},
   "outputs": [
    {
     "data": {
      "image/png": "[encoded data removed]",
      "text/plain": [
       "<Figure size 432x288 with 1 Axes>"
      ]
     },
     "metadata": {
      "needs_background": "light"
     },
     "output_type": "display_data"
    }
   ],
   "source": [
    "x = df_1['기간']\n",
    "y = df_1['한국 수출금액']\n",
    "plt.plot(x,y)\n",
    "y = df_1['한국의대중국수출']\n",
    "plt.plot(x,y)\n",
    "\n",
    "plt.show()\n"
   ]
  },
  {
   "cell_type": "code",
   "execution_count": 13,
   "id": "70a4715f",
   "metadata": {},
   "outputs": [
    {
     "data": {
      "image/png": "[encoded data removed]",
      "text/plain": [
       "<Figure size 432x288 with 1 Axes>"
      ]
     },
     "metadata": {
      "needs_background": "light"
     },
     "output_type": "display_data"
    }
   ],
   "source": [
    "x = df_1['기간']\n",
    "y = df_1['한국 수출금액']\n",
    "plt.plot(x,y)\n",
    "y = df_1['한국의대일본수출']\n",
    "plt.plot(x,y)\n",
    "\n",
    "plt.show()\n"
   ]
  },
  {
   "cell_type": "code",
   "execution_count": 14,
   "id": "f965c29a",
   "metadata": {
    "scrolled": true
   },
   "outputs": [
    {
     "data": {
      "image/png": "[encoded data removed]",
      "text/plain": [
       "<Figure size 432x288 with 1 Axes>"
      ]
     },
     "metadata": {
      "needs_background": "light"
     },
     "output_type": "display_data"
    }
   ],
   "source": [
    "x = df_1['기간']\n",
    "y = df_1['한국 수출금액']\n",
    "plt.plot(x,y)\n",
    "y = df_1['한국의대홍콩수출']\n",
    "plt.plot(x,y)\n",
    "\n",
    "plt.show()\n"
   ]
  },
  {
   "cell_type": "code",
   "execution_count": 15,
   "id": "96a975b4",
   "metadata": {
    "scrolled": true
   },
   "outputs": [
    {
     "data": {
      "image/png": "[encoded data removed]",
      "text/plain": [
       "<Figure size 432x288 with 1 Axes>"
      ]
     },
     "metadata": {
      "needs_background": "light"
     },
     "output_type": "display_data"
    }
   ],
   "source": [
    "x = df_1['기간']\n",
    "y = df_1['한국 수출금액']\n",
    "plt.plot(x,y)\n",
    "y = df_1['한국의대베트남수출']\n",
    "plt.plot(x,y)\n",
    "\n",
    "plt.show()"
   ]
  },
  {
   "cell_type": "code",
   "execution_count": 16,
   "id": "85b236e4",
   "metadata": {},
   "outputs": [
    {
     "data": {
      "image/png": "[encoded data removed]",
      "text/plain": [
       "<Figure size 432x288 with 1 Axes>"
      ]
     },
     "metadata": {
      "needs_background": "light"
     },
     "output_type": "display_data"
    }
   ],
   "source": [
    "x = df_1['기간']\n",
    "y = df_1['한국 수출금액']\n",
    "plt.plot(x,y)\n",
    "y = df_1['한국의대베트남수출']\n",
    "plt.plot(x,y)\n",
    "\n",
    "plt.show()"
   ]
  },
  {
   "cell_type": "code",
   "execution_count": 17,
   "id": "510172dc",
   "metadata": {
    "scrolled": true
   },
   "outputs": [
    {
     "name": "stderr",
     "output_type": "stream",
     "text": [
      "C:\\anaconda\\lib\\site-packages\\openpyxl\\styles\\stylesheet.py:226: UserWarning: Workbook contains no default style, apply openpyxl's default\n",
      "  warn(\"Workbook contains no default style, apply openpyxl's default\")\n"
     ]
    }
   ],
   "source": [
    "df_2=pd.read_excel(\"일본 수출액 1980~2001.xlsx\")"
   ]
  },
  {
   "cell_type": "code",
   "execution_count": 18,
   "id": "a1c919d1",
   "metadata": {},
   "outputs": [],
   "source": [
    "df_2=df_2.transpose()"
   ]
  },
  {
   "cell_type": "code",
   "execution_count": 19,
   "id": "c799eacd",
   "metadata": {},
   "outputs": [],
   "source": [
    "df_2=df_2.reset_index()"
   ]
  },
  {
   "cell_type": "code",
   "execution_count": 20,
   "id": "b5098501",
   "metadata": {},
   "outputs": [],
   "source": [
    "df_2.drop(0, axis=0,inplace=True)"
   ]
  },
  {
   "cell_type": "code",
   "execution_count": 21,
   "id": "69d73963",
   "metadata": {},
   "outputs": [],
   "source": [
    "df_2.rename(columns={'index':'기간',1:'수출액'},inplace=True)"
   ]
  },
  {
   "cell_type": "code",
   "execution_count": 22,
   "id": "ff231b60",
   "metadata": {},
   "outputs": [],
   "source": [
    "df_2['기간']=pd.to_datetime(df_2['기간'])"
   ]
  },
  {
   "cell_type": "code",
   "execution_count": 23,
   "id": "01cfe7de",
   "metadata": {
    "scrolled": true
   },
   "outputs": [
    {
     "data": {
      "image/png": "[encoded data removed]",
      "text/plain": [
       "<Figure size 432x288 with 1 Axes>"
      ]
     },
     "metadata": {
      "needs_background": "light"
     },
     "output_type": "display_data"
    }
   ],
   "source": [
    "x = df_2['기간']\n",
    "y = df_2['수출액']\n",
    "plt.plot(x,y)\n",
    "plt.show()"
   ]
  },
  {
   "cell_type": "code",
   "execution_count": 24,
   "id": "cfa6b08b",
   "metadata": {},
   "outputs": [],
   "source": [
    "df_2['수출액']=df_2['수출액']*1000"
   ]
  },
  {
   "cell_type": "code",
   "execution_count": 25,
   "id": "488ed2d5",
   "metadata": {},
   "outputs": [],
   "source": [
    "from sklearn import preprocessing"
   ]
  },
  {
   "cell_type": "code",
   "execution_count": 26,
   "id": "41e37262",
   "metadata": {},
   "outputs": [
    {
     "name": "stdout",
     "output_type": "stream",
     "text": [
      "264\n"
     ]
    }
   ],
   "source": [
    "print(len(df_1['기간']))"
   ]
  },
  {
   "cell_type": "code",
   "execution_count": 27,
   "id": "d2c9745a",
   "metadata": {},
   "outputs": [
    {
     "name": "stdout",
     "output_type": "stream",
     "text": [
      "264\n"
     ]
    }
   ],
   "source": [
    "print(len(df_2['기간']))"
   ]
  },
  {
   "cell_type": "code",
   "execution_count": 28,
   "id": "1708e2f0",
   "metadata": {
    "scrolled": false
   },
   "outputs": [
    {
     "data": {
      "image/png": "[encoded data removed]",
      "text/plain": [
       "<Figure size 432x288 with 1 Axes>"
      ]
     },
     "metadata": {
      "needs_background": "light"
     },
     "output_type": "display_data"
    }
   ],
   "source": [
    "x = range(len(df_1['기간']))\n",
    "y = df_1['한국 수출금액']\n",
    "plt.plot(x,y)\n",
    "x = range(len(df_2['기간']))\n",
    "y = df_2['수출액']\n",
    "plt.plot(x,y)\n",
    "\n",
    "plt.show()\n"
   ]
  },
  {
   "cell_type": "code",
   "execution_count": 29,
   "id": "a66b33a8",
   "metadata": {
    "scrolled": true
   },
   "outputs": [
    {
     "name": "stdout",
     "output_type": "stream",
     "text": [
      "Requirement already satisfied: openpyxl in c:\\anaconda\\lib\\site-packages (3.0.9)\n",
      "Requirement already satisfied: et-xmlfile in c:\\anaconda\\lib\\site-packages (from openpyxl) (1.1.0)\n"
     ]
    }
   ],
   "source": [
    "!pip install openpyxl"
   ]
  },
  {
   "cell_type": "code",
   "execution_count": 30,
   "id": "3e2e6e29",
   "metadata": {},
   "outputs": [
    {
     "data": {
      "text/html": [
       "<div>\n",
       "<style scoped>\n",
       "    .dataframe tbody tr th:only-of-type {\n",
       "        vertical-align: middle;\n",
       "    }\n",
       "\n",
       "    .dataframe tbody tr th {\n",
       "        vertical-align: top;\n",
       "    }\n",
       "\n",
       "    .dataframe thead th {\n",
       "        text-align: right;\n",
       "    }\n",
       "</style>\n",
       "<table border=\"1\" class=\"dataframe\">\n",
       "  <thead>\n",
       "    <tr style=\"text-align: right;\">\n",
       "      <th></th>\n",
       "      <th>년도</th>\n",
       "      <th>두바이유</th>\n",
       "      <th>브렌트유</th>\n",
       "      <th>서부텍사스중질유</th>\n",
       "    </tr>\n",
       "  </thead>\n",
       "  <tbody>\n",
       "    <tr>\n",
       "      <th>0</th>\n",
       "      <td>2000년 01월</td>\n",
       "      <td>23.97</td>\n",
       "      <td>26.92</td>\n",
       "      <td>27.64</td>\n",
       "    </tr>\n",
       "    <tr>\n",
       "      <th>1</th>\n",
       "      <td>2000년 02월</td>\n",
       "      <td>25.29</td>\n",
       "      <td>29.04</td>\n",
       "      <td>30.43</td>\n",
       "    </tr>\n",
       "    <tr>\n",
       "      <th>2</th>\n",
       "      <td>2000년 03월</td>\n",
       "      <td>23.72</td>\n",
       "      <td>24.12</td>\n",
       "      <td>26.90</td>\n",
       "    </tr>\n",
       "    <tr>\n",
       "      <th>3</th>\n",
       "      <td>2000년 04월</td>\n",
       "      <td>22.79</td>\n",
       "      <td>23.43</td>\n",
       "      <td>25.74</td>\n",
       "    </tr>\n",
       "    <tr>\n",
       "      <th>4</th>\n",
       "      <td>2000년 05월</td>\n",
       "      <td>25.51</td>\n",
       "      <td>29.03</td>\n",
       "      <td>29.01</td>\n",
       "    </tr>\n",
       "    <tr>\n",
       "      <th>...</th>\n",
       "      <td>...</td>\n",
       "      <td>...</td>\n",
       "      <td>...</td>\n",
       "      <td>...</td>\n",
       "    </tr>\n",
       "    <tr>\n",
       "      <th>259</th>\n",
       "      <td>2021년 08월</td>\n",
       "      <td>69.35</td>\n",
       "      <td>71.24</td>\n",
       "      <td>68.50</td>\n",
       "    </tr>\n",
       "    <tr>\n",
       "      <th>260</th>\n",
       "      <td>2021년 09월</td>\n",
       "      <td>75.90</td>\n",
       "      <td>78.77</td>\n",
       "      <td>75.03</td>\n",
       "    </tr>\n",
       "    <tr>\n",
       "      <th>261</th>\n",
       "      <td>2021년 10월</td>\n",
       "      <td>81.94</td>\n",
       "      <td>83.92</td>\n",
       "      <td>83.57</td>\n",
       "    </tr>\n",
       "    <tr>\n",
       "      <th>262</th>\n",
       "      <td>2021년 11월</td>\n",
       "      <td>70.97</td>\n",
       "      <td>69.75</td>\n",
       "      <td>66.18</td>\n",
       "    </tr>\n",
       "    <tr>\n",
       "      <th>263</th>\n",
       "      <td>2021년 12월</td>\n",
       "      <td>76.48</td>\n",
       "      <td>77.46</td>\n",
       "      <td>76.99</td>\n",
       "    </tr>\n",
       "  </tbody>\n",
       "</table>\n",
       "<p>264 rows × 4 columns</p>\n",
       "</div>"
      ],
      "text/plain": [
       "            년도   두바이유   브렌트유  서부텍사스중질유\n",
       "0    2000년 01월  23.97  26.92     27.64\n",
       "1    2000년 02월  25.29  29.04     30.43\n",
       "2    2000년 03월  23.72  24.12     26.90\n",
       "3    2000년 04월  22.79  23.43     25.74\n",
       "4    2000년 05월  25.51  29.03     29.01\n",
       "..         ...    ...    ...       ...\n",
       "259  2021년 08월  69.35  71.24     68.50\n",
       "260  2021년 09월  75.90  78.77     75.03\n",
       "261  2021년 10월  81.94  83.92     83.57\n",
       "262  2021년 11월  70.97  69.75     66.18\n",
       "263  2021년 12월  76.48  77.46     76.99\n",
       "\n",
       "[264 rows x 4 columns]"
      ]
     },
     "execution_count": 30,
     "metadata": {},
     "output_type": "execute_result"
    }
   ],
   "source": [
    "pd.read_excel('국제유가 2000~2021.xlsx')"
   ]
  },
  {
   "cell_type": "code",
   "execution_count": 31,
   "id": "bbb3b8e0",
   "metadata": {},
   "outputs": [],
   "source": [
    "#국제유가\n",
    "df_3=pd.read_excel('국제유가 2000~2021.xlsx')\n"
   ]
  },
  {
   "cell_type": "code",
   "execution_count": 32,
   "id": "fb93257b",
   "metadata": {},
   "outputs": [],
   "source": [
    "# 상관계수 분석\n",
    "df_all_1 = df_1.copy()"
   ]
  },
  {
   "cell_type": "code",
   "execution_count": 33,
   "id": "d066d596",
   "metadata": {},
   "outputs": [],
   "source": [
    "df_all_1=pd.concat([df_all_1,df_3.drop(['년도'], axis=1)],axis=1)"
   ]
  },
  {
   "cell_type": "code",
   "execution_count": 34,
   "id": "aae7eec8",
   "metadata": {},
   "outputs": [],
   "source": [
    "df_2.reset_index(inplace=True)"
   ]
  },
  {
   "cell_type": "code",
   "execution_count": 35,
   "id": "ab845b9e",
   "metadata": {},
   "outputs": [],
   "source": [
    "df_all_1['일본과거수출액']=df_2['수출액']"
   ]
  },
  {
   "cell_type": "code",
   "execution_count": 36,
   "id": "44023584",
   "metadata": {
    "scrolled": false
   },
   "outputs": [
    {
     "name": "stdout",
     "output_type": "stream",
     "text": [
      "<class 'pandas.core.frame.DataFrame'>\n",
      "RangeIndex: 264 entries, 0 to 263\n",
      "Data columns (total 11 columns):\n",
      " #   Column     Non-Null Count  Dtype         \n",
      "---  ------     --------------  -----         \n",
      " 0   기간         264 non-null    datetime64[ns]\n",
      " 1   한국 수출금액    264 non-null    int64         \n",
      " 2   한국의대중국수출   264 non-null    int64         \n",
      " 3   한국의대미국수출   264 non-null    int64         \n",
      " 4   한국의대베트남수출  264 non-null    int64         \n",
      " 5   한국의대홍콩수출   264 non-null    int64         \n",
      " 6   한국의대일본수출   264 non-null    int64         \n",
      " 7   두바이유       264 non-null    float64       \n",
      " 8   브렌트유       264 non-null    float64       \n",
      " 9   서부텍사스중질유   264 non-null    float64       \n",
      " 10  일본과거수출액    264 non-null    object        \n",
      "dtypes: datetime64[ns](1), float64(3), int64(6), object(1)\n",
      "memory usage: 22.8+ KB\n"
     ]
    }
   ],
   "source": [
    "df_all_1.info()"
   ]
  },
  {
   "cell_type": "code",
   "execution_count": 37,
   "id": "0885364d",
   "metadata": {},
   "outputs": [],
   "source": [
    "df_all_1=df_all_1.astype({'일본과거수출액':'float64'})"
   ]
  },
  {
   "cell_type": "code",
   "execution_count": 38,
   "id": "b44840fc",
   "metadata": {
    "scrolled": true
   },
   "outputs": [
    {
     "data": {
      "text/html": [
       "<div>\n",
       "<style scoped>\n",
       "    .dataframe tbody tr th:only-of-type {\n",
       "        vertical-align: middle;\n",
       "    }\n",
       "\n",
       "    .dataframe tbody tr th {\n",
       "        vertical-align: top;\n",
       "    }\n",
       "\n",
       "    .dataframe thead th {\n",
       "        text-align: right;\n",
       "    }\n",
       "</style>\n",
       "<table border=\"1\" class=\"dataframe\">\n",
       "  <thead>\n",
       "    <tr style=\"text-align: right;\">\n",
       "      <th></th>\n",
       "      <th>한국 수출금액</th>\n",
       "      <th>한국의대중국수출</th>\n",
       "      <th>한국의대미국수출</th>\n",
       "      <th>한국의대베트남수출</th>\n",
       "      <th>한국의대홍콩수출</th>\n",
       "      <th>한국의대일본수출</th>\n",
       "      <th>두바이유</th>\n",
       "      <th>브렌트유</th>\n",
       "      <th>서부텍사스중질유</th>\n",
       "      <th>일본과거수출액</th>\n",
       "    </tr>\n",
       "  </thead>\n",
       "  <tbody>\n",
       "    <tr>\n",
       "      <th>한국 수출금액</th>\n",
       "      <td>1.000000</td>\n",
       "      <td>0.986205</td>\n",
       "      <td>0.883147</td>\n",
       "      <td>0.782272</td>\n",
       "      <td>0.898647</td>\n",
       "      <td>0.788045</td>\n",
       "      <td>0.666850</td>\n",
       "      <td>0.646012</td>\n",
       "      <td>0.595222</td>\n",
       "      <td>0.830371</td>\n",
       "    </tr>\n",
       "    <tr>\n",
       "      <th>한국의대중국수출</th>\n",
       "      <td>0.986205</td>\n",
       "      <td>1.000000</td>\n",
       "      <td>0.865766</td>\n",
       "      <td>0.786733</td>\n",
       "      <td>0.905776</td>\n",
       "      <td>0.750390</td>\n",
       "      <td>0.642421</td>\n",
       "      <td>0.620352</td>\n",
       "      <td>0.568208</td>\n",
       "      <td>0.840734</td>\n",
       "    </tr>\n",
       "    <tr>\n",
       "      <th>한국의대미국수출</th>\n",
       "      <td>0.883147</td>\n",
       "      <td>0.865766</td>\n",
       "      <td>1.000000</td>\n",
       "      <td>0.897149</td>\n",
       "      <td>0.828548</td>\n",
       "      <td>0.560782</td>\n",
       "      <td>0.351308</td>\n",
       "      <td>0.328573</td>\n",
       "      <td>0.279063</td>\n",
       "      <td>0.785905</td>\n",
       "    </tr>\n",
       "    <tr>\n",
       "      <th>한국의대베트남수출</th>\n",
       "      <td>0.782272</td>\n",
       "      <td>0.786733</td>\n",
       "      <td>0.897149</td>\n",
       "      <td>1.000000</td>\n",
       "      <td>0.827196</td>\n",
       "      <td>0.354092</td>\n",
       "      <td>0.153356</td>\n",
       "      <td>0.121639</td>\n",
       "      <td>0.066312</td>\n",
       "      <td>0.762865</td>\n",
       "    </tr>\n",
       "    <tr>\n",
       "      <th>한국의대홍콩수출</th>\n",
       "      <td>0.898647</td>\n",
       "      <td>0.905776</td>\n",
       "      <td>0.828548</td>\n",
       "      <td>0.827196</td>\n",
       "      <td>1.000000</td>\n",
       "      <td>0.630457</td>\n",
       "      <td>0.456478</td>\n",
       "      <td>0.434715</td>\n",
       "      <td>0.372287</td>\n",
       "      <td>0.735185</td>\n",
       "    </tr>\n",
       "    <tr>\n",
       "      <th>한국의대일본수출</th>\n",
       "      <td>0.788045</td>\n",
       "      <td>0.750390</td>\n",
       "      <td>0.560782</td>\n",
       "      <td>0.354092</td>\n",
       "      <td>0.630457</td>\n",
       "      <td>1.000000</td>\n",
       "      <td>0.862311</td>\n",
       "      <td>0.861803</td>\n",
       "      <td>0.800735</td>\n",
       "      <td>0.479597</td>\n",
       "    </tr>\n",
       "    <tr>\n",
       "      <th>두바이유</th>\n",
       "      <td>0.666850</td>\n",
       "      <td>0.642421</td>\n",
       "      <td>0.351308</td>\n",
       "      <td>0.153356</td>\n",
       "      <td>0.456478</td>\n",
       "      <td>0.862311</td>\n",
       "      <td>1.000000</td>\n",
       "      <td>0.996699</td>\n",
       "      <td>0.977844</td>\n",
       "      <td>0.371899</td>\n",
       "    </tr>\n",
       "    <tr>\n",
       "      <th>브렌트유</th>\n",
       "      <td>0.646012</td>\n",
       "      <td>0.620352</td>\n",
       "      <td>0.328573</td>\n",
       "      <td>0.121639</td>\n",
       "      <td>0.434715</td>\n",
       "      <td>0.861803</td>\n",
       "      <td>0.996699</td>\n",
       "      <td>1.000000</td>\n",
       "      <td>0.983405</td>\n",
       "      <td>0.341595</td>\n",
       "    </tr>\n",
       "    <tr>\n",
       "      <th>서부텍사스중질유</th>\n",
       "      <td>0.595222</td>\n",
       "      <td>0.568208</td>\n",
       "      <td>0.279063</td>\n",
       "      <td>0.066312</td>\n",
       "      <td>0.372287</td>\n",
       "      <td>0.800735</td>\n",
       "      <td>0.977844</td>\n",
       "      <td>0.983405</td>\n",
       "      <td>1.000000</td>\n",
       "      <td>0.307975</td>\n",
       "    </tr>\n",
       "    <tr>\n",
       "      <th>일본과거수출액</th>\n",
       "      <td>0.830371</td>\n",
       "      <td>0.840734</td>\n",
       "      <td>0.785905</td>\n",
       "      <td>0.762865</td>\n",
       "      <td>0.735185</td>\n",
       "      <td>0.479597</td>\n",
       "      <td>0.371899</td>\n",
       "      <td>0.341595</td>\n",
       "      <td>0.307975</td>\n",
       "      <td>1.000000</td>\n",
       "    </tr>\n",
       "  </tbody>\n",
       "</table>\n",
       "</div>"
      ],
      "text/plain": [
       "            한국 수출금액  한국의대중국수출  한국의대미국수출  한국의대베트남수출  한국의대홍콩수출  한국의대일본수출  \\\n",
       "한국 수출금액    1.000000  0.986205  0.883147   0.782272  0.898647  0.788045   \n",
       "한국의대중국수출   0.986205  1.000000  0.865766   0.786733  0.905776  0.750390   \n",
       "한국의대미국수출   0.883147  0.865766  1.000000   0.897149  0.828548  0.560782   \n",
       "한국의대베트남수출  0.782272  0.786733  0.897149   1.000000  0.827196  0.354092   \n",
       "한국의대홍콩수출   0.898647  0.905776  0.828548   0.827196  1.000000  0.630457   \n",
       "한국의대일본수출   0.788045  0.750390  0.560782   0.354092  0.630457  1.000000   \n",
       "두바이유       0.666850  0.642421  0.351308   0.153356  0.456478  0.862311   \n",
       "브렌트유       0.646012  0.620352  0.328573   0.121639  0.434715  0.861803   \n",
       "서부텍사스중질유   0.595222  0.568208  0.279063   0.066312  0.372287  0.800735   \n",
       "일본과거수출액    0.830371  0.840734  0.785905   0.762865  0.735185  0.479597   \n",
       "\n",
       "               두바이유      브렌트유  서부텍사스중질유   일본과거수출액  \n",
       "한국 수출금액    0.666850  0.646012  0.595222  0.830371  \n",
       "한국의대중국수출   0.642421  0.620352  0.568208  0.840734  \n",
       "한국의대미국수출   0.351308  0.328573  0.279063  0.785905  \n",
       "한국의대베트남수출  0.153356  0.121639  0.066312  0.762865  \n",
       "한국의대홍콩수출   0.456478  0.434715  0.372287  0.735185  \n",
       "한국의대일본수출   0.862311  0.861803  0.800735  0.479597  \n",
       "두바이유       1.000000  0.996699  0.977844  0.371899  \n",
       "브렌트유       0.996699  1.000000  0.983405  0.341595  \n",
       "서부텍사스중질유   0.977844  0.983405  1.000000  0.307975  \n",
       "일본과거수출액    0.371899  0.341595  0.307975  1.000000  "
      ]
     },
     "execution_count": 38,
     "metadata": {},
     "output_type": "execute_result"
    }
   ],
   "source": [
    "df_all_1.corr(method='pearson', min_periods=1)"
   ]
  },
  {
   "cell_type": "code",
   "execution_count": 39,
   "id": "bde4a930",
   "metadata": {},
   "outputs": [],
   "source": [
    "# 정규화"
   ]
  },
  {
   "cell_type": "code",
   "execution_count": 40,
   "id": "19cccd76",
   "metadata": {},
   "outputs": [],
   "source": [
    "from sklearn.preprocessing import MinMaxScaler"
   ]
  },
  {
   "cell_type": "code",
   "execution_count": 41,
   "id": "501719c2",
   "metadata": {},
   "outputs": [],
   "source": [
    "import pandas as pd\n",
    "import numpy as np\n",
    "from sklearn.linear_model import LinearRegression\n",
    "from sklearn.model_selection import train_test_split\n",
    "from sklearn.preprocessing import OneHotEncoder\n",
    "from sklearn.metrics import mean_squared_error, r2_score\n",
    "import seaborn as sns\n",
    "import lightgbm as lgb"
   ]
  },
  {
   "cell_type": "code",
   "execution_count": 42,
   "id": "aced2865",
   "metadata": {},
   "outputs": [],
   "source": [
    "from sklearn.model_selection import KFold\n",
    "from sklearn.metrics import accuracy_score"
   ]
  },
  {
   "cell_type": "code",
   "execution_count": 43,
   "id": "4bc17063",
   "metadata": {},
   "outputs": [],
   "source": [
    "from sklearn.metrics import mean_squared_error"
   ]
  },
  {
   "cell_type": "code",
   "execution_count": 44,
   "id": "6aef59bd",
   "metadata": {},
   "outputs": [],
   "source": [
    "df_all_2=df_all_1.drop([df_all_1.columns[0],'한국 수출금액'], axis=1)"
   ]
  },
  {
   "cell_type": "code",
   "execution_count": 45,
   "id": "377d7d49",
   "metadata": {},
   "outputs": [],
   "source": [
    "scaler = MinMaxScaler()\n",
    "\n",
    "# MinMaxScaler로 데이터 세트 변환, fit()과 transform() 호출\n",
    "scaler.fit(df_all_2)\n",
    "iris_scaled = scaler.transform(df_all_2)\n",
    "\n",
    "# transform() 결과는 ndarraay, 데이터 프레임으로 변환\n",
    "df_all_scaled = pd.DataFrame(iris_scaled)"
   ]
  },
  {
   "cell_type": "code",
   "execution_count": 46,
   "id": "38d66a61",
   "metadata": {},
   "outputs": [],
   "source": [
    "label1=df_all_1['한국 수출금액']"
   ]
  },
  {
   "cell_type": "code",
   "execution_count": 47,
   "id": "9ef2dbfe",
   "metadata": {},
   "outputs": [],
   "source": [
    "df_all_scaled.reset_index(drop=True,inplace=True)"
   ]
  },
  {
   "cell_type": "code",
   "execution_count": 48,
   "id": "29ce2eb5",
   "metadata": {},
   "outputs": [],
   "source": [
    "X=np.array(df_all_scaled)"
   ]
  },
  {
   "cell_type": "code",
   "execution_count": 64,
   "id": "5895f4bc",
   "metadata": {},
   "outputs": [
    {
     "data": {
      "text/plain": [
       "Index(['한국의대중국수출', '한국의대미국수출', '한국의대베트남수출', '한국의대홍콩수출', '한국의대일본수출', '두바이유',\n",
       "       '브렌트유', '서부텍사스중질유', '일본과거수출액'],\n",
       "      dtype='object')"
      ]
     },
     "execution_count": 64,
     "metadata": {},
     "output_type": "execute_result"
    }
   ],
   "source": [
    "df_all_2.columns"
   ]
  },
  {
   "cell_type": "code",
   "execution_count": null,
   "id": "63759603",
   "metadata": {},
   "outputs": [],
   "source": []
  },
  {
   "cell_type": "code",
   "execution_count": 63,
   "id": "c1d42844",
   "metadata": {
    "scrolled": true
   },
   "outputs": [
    {
     "data": {
      "text/html": [
       "<div>\n",
       "<style scoped>\n",
       "    .dataframe tbody tr th:only-of-type {\n",
       "        vertical-align: middle;\n",
       "    }\n",
       "\n",
       "    .dataframe tbody tr th {\n",
       "        vertical-align: top;\n",
       "    }\n",
       "\n",
       "    .dataframe thead th {\n",
       "        text-align: right;\n",
       "    }\n",
       "</style>\n",
       "<table border=\"1\" class=\"dataframe\">\n",
       "  <thead>\n",
       "    <tr style=\"text-align: right;\">\n",
       "      <th></th>\n",
       "      <th>0</th>\n",
       "      <th>1</th>\n",
       "      <th>2</th>\n",
       "      <th>3</th>\n",
       "      <th>4</th>\n",
       "      <th>5</th>\n",
       "      <th>6</th>\n",
       "      <th>7</th>\n",
       "      <th>8</th>\n",
       "    </tr>\n",
       "  </thead>\n",
       "  <tbody>\n",
       "    <tr>\n",
       "      <th>0</th>\n",
       "      <td>0.000000</td>\n",
       "      <td>0.052474</td>\n",
       "      <td>0.002700</td>\n",
       "      <td>0.029286</td>\n",
       "      <td>0.186491</td>\n",
       "      <td>0.051276</td>\n",
       "      <td>0.063578</td>\n",
       "      <td>0.072631</td>\n",
       "      <td>0.001235</td>\n",
       "    </tr>\n",
       "    <tr>\n",
       "      <th>1</th>\n",
       "      <td>0.002687</td>\n",
       "      <td>0.043965</td>\n",
       "      <td>0.003181</td>\n",
       "      <td>0.039095</td>\n",
       "      <td>0.174155</td>\n",
       "      <td>0.062389</td>\n",
       "      <td>0.081243</td>\n",
       "      <td>0.095659</td>\n",
       "      <td>0.029641</td>\n",
       "    </tr>\n",
       "    <tr>\n",
       "      <th>2</th>\n",
       "      <td>0.014330</td>\n",
       "      <td>0.104167</td>\n",
       "      <td>0.010015</td>\n",
       "      <td>0.059744</td>\n",
       "      <td>0.273487</td>\n",
       "      <td>0.049171</td>\n",
       "      <td>0.040247</td>\n",
       "      <td>0.066524</td>\n",
       "      <td>0.040517</td>\n",
       "    </tr>\n",
       "    <tr>\n",
       "      <th>3</th>\n",
       "      <td>0.009333</td>\n",
       "      <td>0.066008</td>\n",
       "      <td>0.013458</td>\n",
       "      <td>0.048341</td>\n",
       "      <td>0.198118</td>\n",
       "      <td>0.041340</td>\n",
       "      <td>0.034497</td>\n",
       "      <td>0.056949</td>\n",
       "      <td>0.015473</td>\n",
       "    </tr>\n",
       "    <tr>\n",
       "      <th>4</th>\n",
       "      <td>0.030341</td>\n",
       "      <td>0.137965</td>\n",
       "      <td>0.013506</td>\n",
       "      <td>0.053956</td>\n",
       "      <td>0.231263</td>\n",
       "      <td>0.064242</td>\n",
       "      <td>0.081160</td>\n",
       "      <td>0.083939</td>\n",
       "      <td>0.021746</td>\n",
       "    </tr>\n",
       "    <tr>\n",
       "      <th>...</th>\n",
       "      <td>...</td>\n",
       "      <td>...</td>\n",
       "      <td>...</td>\n",
       "      <td>...</td>\n",
       "      <td>...</td>\n",
       "      <td>...</td>\n",
       "      <td>...</td>\n",
       "      <td>...</td>\n",
       "      <td>...</td>\n",
       "    </tr>\n",
       "    <tr>\n",
       "      <th>259</th>\n",
       "      <td>0.896420</td>\n",
       "      <td>0.833844</td>\n",
       "      <td>0.861163</td>\n",
       "      <td>0.649629</td>\n",
       "      <td>0.550941</td>\n",
       "      <td>0.433359</td>\n",
       "      <td>0.432881</td>\n",
       "      <td>0.409871</td>\n",
       "      <td>0.592813</td>\n",
       "    </tr>\n",
       "    <tr>\n",
       "      <th>260</th>\n",
       "      <td>0.925529</td>\n",
       "      <td>0.876745</td>\n",
       "      <td>0.906682</td>\n",
       "      <td>0.752395</td>\n",
       "      <td>0.557709</td>\n",
       "      <td>0.488507</td>\n",
       "      <td>0.495625</td>\n",
       "      <td>0.463767</td>\n",
       "      <td>0.644495</td>\n",
       "    </tr>\n",
       "    <tr>\n",
       "      <th>261</th>\n",
       "      <td>0.934311</td>\n",
       "      <td>0.889452</td>\n",
       "      <td>0.871056</td>\n",
       "      <td>0.490351</td>\n",
       "      <td>0.585351</td>\n",
       "      <td>0.539362</td>\n",
       "      <td>0.538538</td>\n",
       "      <td>0.534252</td>\n",
       "      <td>0.606282</td>\n",
       "    </tr>\n",
       "    <tr>\n",
       "      <th>262</th>\n",
       "      <td>0.995037</td>\n",
       "      <td>0.899706</td>\n",
       "      <td>0.974878</td>\n",
       "      <td>0.606464</td>\n",
       "      <td>0.659860</td>\n",
       "      <td>0.446998</td>\n",
       "      <td>0.420465</td>\n",
       "      <td>0.390723</td>\n",
       "      <td>0.662599</td>\n",
       "    </tr>\n",
       "    <tr>\n",
       "      <th>263</th>\n",
       "      <td>1.000000</td>\n",
       "      <td>1.000000</td>\n",
       "      <td>1.000000</td>\n",
       "      <td>0.656330</td>\n",
       "      <td>0.622082</td>\n",
       "      <td>0.493391</td>\n",
       "      <td>0.484710</td>\n",
       "      <td>0.479944</td>\n",
       "      <td>0.564020</td>\n",
       "    </tr>\n",
       "  </tbody>\n",
       "</table>\n",
       "<p>264 rows × 9 columns</p>\n",
       "</div>"
      ],
      "text/plain": [
       "            0         1         2         3         4         5         6  \\\n",
       "0    0.000000  0.052474  0.002700  0.029286  0.186491  0.051276  0.063578   \n",
       "1    0.002687  0.043965  0.003181  0.039095  0.174155  0.062389  0.081243   \n",
       "2    0.014330  0.104167  0.010015  0.059744  0.273487  0.049171  0.040247   \n",
       "3    0.009333  0.066008  0.013458  0.048341  0.198118  0.041340  0.034497   \n",
       "4    0.030341  0.137965  0.013506  0.053956  0.231263  0.064242  0.081160   \n",
       "..        ...       ...       ...       ...       ...       ...       ...   \n",
       "259  0.896420  0.833844  0.861163  0.649629  0.550941  0.433359  0.432881   \n",
       "260  0.925529  0.876745  0.906682  0.752395  0.557709  0.488507  0.495625   \n",
       "261  0.934311  0.889452  0.871056  0.490351  0.585351  0.539362  0.538538   \n",
       "262  0.995037  0.899706  0.974878  0.606464  0.659860  0.446998  0.420465   \n",
       "263  1.000000  1.000000  1.000000  0.656330  0.622082  0.493391  0.484710   \n",
       "\n",
       "            7         8  \n",
       "0    0.072631  0.001235  \n",
       "1    0.095659  0.029641  \n",
       "2    0.066524  0.040517  \n",
       "3    0.056949  0.015473  \n",
       "4    0.083939  0.021746  \n",
       "..        ...       ...  \n",
       "259  0.409871  0.592813  \n",
       "260  0.463767  0.644495  \n",
       "261  0.534252  0.606282  \n",
       "262  0.390723  0.662599  \n",
       "263  0.479944  0.564020  \n",
       "\n",
       "[264 rows x 9 columns]"
      ]
     },
     "execution_count": 63,
     "metadata": {},
     "output_type": "execute_result"
    }
   ],
   "source": [
    "df_all_scaled"
   ]
  },
  {
   "cell_type": "code",
   "execution_count": 65,
   "id": "85d64bfb",
   "metadata": {},
   "outputs": [],
   "source": [
    "from sklearn.ensemble import RandomForestRegressor\n",
    "from sklearn.model_selection import cross_val_score\n",
    "import pandas as pd\n",
    "import numpy as np\n",
    "from sklearn.model_selection import GridSearchCV\n",
    "from sklearn.model_selection import train_test_split\n",
    "from sklearn.metrics import mean_squared_error\n",
    "import math"
   ]
  },
  {
   "cell_type": "markdown",
   "id": "1a94edd0",
   "metadata": {},
   "source": [
    "#### 랜덤포레스트 파라미터 최적화(gridsearchcv)\n",
    "\n"
   ]
  },
  {
   "cell_type": "code",
   "execution_count": 67,
   "id": "69140739",
   "metadata": {},
   "outputs": [
    {
     "name": "stdout",
     "output_type": "stream",
     "text": [
      "최적 하이퍼 파라미터: {'max_depth': 5, 'min_samples_leaf': 8, 'min_samples_split': 8, 'n_estimators': 100}\n",
      "최적 예측 정확도: 0.9615\n"
     ]
    }
   ],
   "source": [
    "X_train11, X_valid11, y_train11, y_valid11=train_test_split(df_all_scaled, label1,\n",
    "                                                  test_size=0.2, random_state=0)\n",
    " \n",
    " \n",
    "params = {\n",
    "    'n_estimators':(100, 200),\n",
    "    'max_depth' : (5, 8),\n",
    "    'min_samples_leaf' : (8, 18),\n",
    "    'min_samples_split' : (8, 16)\n",
    "}\n",
    "\n",
    "rf_run = RandomForestRegressor(random_state=0, n_jobs=-1)\n",
    "grid_cv = GridSearchCV(rf_run, param_grid=params, cv=2, n_jobs=-1)\n",
    "grid_cv.fit(X_train11, y_train11)\n",
    " \n",
    " \n",
    "print('최적 하이퍼 파라미터:', grid_cv.best_params_)\n",
    "print('최적 예측 정확도: {0:.4f}'.format(grid_cv.best_score_))\n"
   ]
  },
  {
   "cell_type": "code",
   "execution_count": 68,
   "id": "53481dd3",
   "metadata": {
    "scrolled": true
   },
   "outputs": [
    {
     "data": {
      "text/plain": [
       "RandomForestRegressor(max_depth=5, min_samples_leaf=8, min_samples_split=8,\n",
       "                      random_state=0)"
      ]
     },
     "execution_count": 68,
     "metadata": {},
     "output_type": "execute_result"
    }
   ],
   "source": [
    "rf_run = RandomForestRegressor(random_state=0, max_depth=5, min_samples_leaf=8, min_samples_split=8,n_estimators=100)\n",
    "rf_run.fit(X_train11, y_train11)\n"
   ]
  },
  {
   "cell_type": "markdown",
   "id": "b6cd28ea",
   "metadata": {},
   "source": [
    "### 모델 성능 측정"
   ]
  },
  {
   "cell_type": "code",
   "execution_count": 91,
   "id": "1675b7ad",
   "metadata": {},
   "outputs": [
    {
     "name": "stdout",
     "output_type": "stream",
     "text": [
      "RMSE':1639489680.927001\n",
      "train r2: 0.9854714844413697\n",
      "RMSE':2630155073.204718\n",
      "valid r2: 0.9541124200647204\n"
     ]
    }
   ],
   "source": [
    "from sklearn.metrics import mean_squared_error, r2_score\n",
    "\n",
    "\n",
    "# train rmse\n",
    "train_predict = rf_run.predict(X_train11)\n",
    "print(\"RMSE':{}\".format(math.sqrt(mean_squared_error(train_predict, y_train11))) )\n",
    "print(\"train r2:\",r2_score( y_train11,train_predict))\n",
    "\n",
    "# validation rmse\n",
    "valid_predict = rf_run.predict(X_valid11)\n",
    "print(\"RMSE':{}\".format(math.sqrt(mean_squared_error(valid_predict, y_valid11))) )\n",
    "\n",
    "print(\"valid r2:\",r2_score( y_valid11,valid_predict))\n",
    "\n",
    "# # test rmse\n",
    "# RUN_T= RUN_2.drop(['HIT_TARGET','G_ID','T_ID','VS_T_ID', 'TB_SC', 'AB_TARGET','GDAY_DS'], axis =1)\n",
    "# a11 = RUN_T.iloc[:, :-1]\n",
    "# b11 = RUN_T.iloc[:, -1]\n",
    "# rf_run_predict = rf_run.predict(a11)\n",
    "# print(\"RMSE':{}\".format(math.sqrt(mean_squared_error(rf_run_predict, b11))) )\n",
    "\n",
    "\n",
    "# 과적합"
   ]
  },
  {
   "cell_type": "markdown",
   "id": "ffc7825d",
   "metadata": {},
   "source": [
    "### 변수 중요도"
   ]
  },
  {
   "cell_type": "code",
   "execution_count": 87,
   "id": "4e1330bd",
   "metadata": {},
   "outputs": [],
   "source": [
    "import platform\n",
    "from matplotlib import font_manager, rc\n",
    "path = \"./NanumGothic.ttf\"\n",
    "if platform.system() == 'Darwin':\n",
    "    rc('font', family='AppleGothic')\n",
    "elif platform.system() == 'Windows':\n",
    "    font_name = font_manager.FontProperties(fname=path).get_name()\n",
    "    rc('font', family=font_name)\n",
    "else:\n",
    "    print('Unknown system... sorry~~~~')"
   ]
  },
  {
   "cell_type": "code",
   "execution_count": 88,
   "id": "f6d94bc4",
   "metadata": {},
   "outputs": [
    {
     "name": "stderr",
     "output_type": "stream",
     "text": [
      "C:\\anaconda\\lib\\site-packages\\IPython\\core\\pylabtools.py:151: UserWarning: Glyph 54620 (\\N{HANGUL SYLLABLE HAN}) missing from current font.\n",
      "  fig.canvas.print_figure(bytes_io, **kw)\n",
      "C:\\anaconda\\lib\\site-packages\\IPython\\core\\pylabtools.py:151: UserWarning: Glyph 44397 (\\N{HANGUL SYLLABLE GUG}) missing from current font.\n",
      "  fig.canvas.print_figure(bytes_io, **kw)\n",
      "C:\\anaconda\\lib\\site-packages\\IPython\\core\\pylabtools.py:151: UserWarning: Glyph 51032 (\\N{HANGUL SYLLABLE YI}) missing from current font.\n",
      "  fig.canvas.print_figure(bytes_io, **kw)\n",
      "C:\\anaconda\\lib\\site-packages\\IPython\\core\\pylabtools.py:151: UserWarning: Glyph 45824 (\\N{HANGUL SYLLABLE DAE}) missing from current font.\n",
      "  fig.canvas.print_figure(bytes_io, **kw)\n",
      "C:\\anaconda\\lib\\site-packages\\IPython\\core\\pylabtools.py:151: UserWarning: Glyph 51473 (\\N{HANGUL SYLLABLE JUNG}) missing from current font.\n",
      "  fig.canvas.print_figure(bytes_io, **kw)\n",
      "C:\\anaconda\\lib\\site-packages\\IPython\\core\\pylabtools.py:151: UserWarning: Glyph 49688 (\\N{HANGUL SYLLABLE SU}) missing from current font.\n",
      "  fig.canvas.print_figure(bytes_io, **kw)\n",
      "C:\\anaconda\\lib\\site-packages\\IPython\\core\\pylabtools.py:151: UserWarning: Glyph 52636 (\\N{HANGUL SYLLABLE CUL}) missing from current font.\n",
      "  fig.canvas.print_figure(bytes_io, **kw)\n",
      "C:\\anaconda\\lib\\site-packages\\IPython\\core\\pylabtools.py:151: UserWarning: Glyph 48288 (\\N{HANGUL SYLLABLE BE}) missing from current font.\n",
      "  fig.canvas.print_figure(bytes_io, **kw)\n",
      "C:\\anaconda\\lib\\site-packages\\IPython\\core\\pylabtools.py:151: UserWarning: Glyph 53944 (\\N{HANGUL SYLLABLE TEU}) missing from current font.\n",
      "  fig.canvas.print_figure(bytes_io, **kw)\n",
      "C:\\anaconda\\lib\\site-packages\\IPython\\core\\pylabtools.py:151: UserWarning: Glyph 45224 (\\N{HANGUL SYLLABLE NAM}) missing from current font.\n",
      "  fig.canvas.print_figure(bytes_io, **kw)\n",
      "C:\\anaconda\\lib\\site-packages\\IPython\\core\\pylabtools.py:151: UserWarning: Glyph 48120 (\\N{HANGUL SYLLABLE MI}) missing from current font.\n",
      "  fig.canvas.print_figure(bytes_io, **kw)\n",
      "C:\\anaconda\\lib\\site-packages\\IPython\\core\\pylabtools.py:151: UserWarning: Glyph 46160 (\\N{HANGUL SYLLABLE DU}) missing from current font.\n",
      "  fig.canvas.print_figure(bytes_io, **kw)\n",
      "C:\\anaconda\\lib\\site-packages\\IPython\\core\\pylabtools.py:151: UserWarning: Glyph 48148 (\\N{HANGUL SYLLABLE BA}) missing from current font.\n",
      "  fig.canvas.print_figure(bytes_io, **kw)\n",
      "C:\\anaconda\\lib\\site-packages\\IPython\\core\\pylabtools.py:151: UserWarning: Glyph 51060 (\\N{HANGUL SYLLABLE I}) missing from current font.\n",
      "  fig.canvas.print_figure(bytes_io, **kw)\n",
      "C:\\anaconda\\lib\\site-packages\\IPython\\core\\pylabtools.py:151: UserWarning: Glyph 50976 (\\N{HANGUL SYLLABLE YU}) missing from current font.\n",
      "  fig.canvas.print_figure(bytes_io, **kw)\n",
      "C:\\anaconda\\lib\\site-packages\\IPython\\core\\pylabtools.py:151: UserWarning: Glyph 48652 (\\N{HANGUL SYLLABLE BEU}) missing from current font.\n",
      "  fig.canvas.print_figure(bytes_io, **kw)\n",
      "C:\\anaconda\\lib\\site-packages\\IPython\\core\\pylabtools.py:151: UserWarning: Glyph 47116 (\\N{HANGUL SYLLABLE REN}) missing from current font.\n",
      "  fig.canvas.print_figure(bytes_io, **kw)\n",
      "C:\\anaconda\\lib\\site-packages\\IPython\\core\\pylabtools.py:151: UserWarning: Glyph 49436 (\\N{HANGUL SYLLABLE SEO}) missing from current font.\n",
      "  fig.canvas.print_figure(bytes_io, **kw)\n",
      "C:\\anaconda\\lib\\site-packages\\IPython\\core\\pylabtools.py:151: UserWarning: Glyph 48512 (\\N{HANGUL SYLLABLE BU}) missing from current font.\n",
      "  fig.canvas.print_figure(bytes_io, **kw)\n",
      "C:\\anaconda\\lib\\site-packages\\IPython\\core\\pylabtools.py:151: UserWarning: Glyph 53581 (\\N{HANGUL SYLLABLE TEG}) missing from current font.\n",
      "  fig.canvas.print_figure(bytes_io, **kw)\n",
      "C:\\anaconda\\lib\\site-packages\\IPython\\core\\pylabtools.py:151: UserWarning: Glyph 49324 (\\N{HANGUL SYLLABLE SA}) missing from current font.\n",
      "  fig.canvas.print_figure(bytes_io, **kw)\n",
      "C:\\anaconda\\lib\\site-packages\\IPython\\core\\pylabtools.py:151: UserWarning: Glyph 49828 (\\N{HANGUL SYLLABLE SEU}) missing from current font.\n",
      "  fig.canvas.print_figure(bytes_io, **kw)\n",
      "C:\\anaconda\\lib\\site-packages\\IPython\\core\\pylabtools.py:151: UserWarning: Glyph 51656 (\\N{HANGUL SYLLABLE JIL}) missing from current font.\n",
      "  fig.canvas.print_figure(bytes_io, **kw)\n",
      "C:\\anaconda\\lib\\site-packages\\IPython\\core\\pylabtools.py:151: UserWarning: Glyph 54861 (\\N{HANGUL SYLLABLE HONG}) missing from current font.\n",
      "  fig.canvas.print_figure(bytes_io, **kw)\n",
      "C:\\anaconda\\lib\\site-packages\\IPython\\core\\pylabtools.py:151: UserWarning: Glyph 53097 (\\N{HANGUL SYLLABLE KONG}) missing from current font.\n",
      "  fig.canvas.print_figure(bytes_io, **kw)\n",
      "C:\\anaconda\\lib\\site-packages\\IPython\\core\\pylabtools.py:151: UserWarning: Glyph 51068 (\\N{HANGUL SYLLABLE IL}) missing from current font.\n",
      "  fig.canvas.print_figure(bytes_io, **kw)\n",
      "C:\\anaconda\\lib\\site-packages\\IPython\\core\\pylabtools.py:151: UserWarning: Glyph 48376 (\\N{HANGUL SYLLABLE BON}) missing from current font.\n",
      "  fig.canvas.print_figure(bytes_io, **kw)\n",
      "C:\\anaconda\\lib\\site-packages\\IPython\\core\\pylabtools.py:151: UserWarning: Glyph 44284 (\\N{HANGUL SYLLABLE GWA}) missing from current font.\n",
      "  fig.canvas.print_figure(bytes_io, **kw)\n",
      "C:\\anaconda\\lib\\site-packages\\IPython\\core\\pylabtools.py:151: UserWarning: Glyph 44144 (\\N{HANGUL SYLLABLE GEO}) missing from current font.\n",
      "  fig.canvas.print_figure(bytes_io, **kw)\n",
      "C:\\anaconda\\lib\\site-packages\\IPython\\core\\pylabtools.py:151: UserWarning: Glyph 50529 (\\N{HANGUL SYLLABLE AEG}) missing from current font.\n",
      "  fig.canvas.print_figure(bytes_io, **kw)\n"
     ]
    },
    {
     "data": {
      "image/png": "[encoded data removed]",
      "text/plain": [
       "<Figure size 576x432 with 1 Axes>"
      ]
     },
     "metadata": {
      "needs_background": "light"
     },
     "output_type": "display_data"
    }
   ],
   "source": [
    "import matplotlib.pyplot as plt # 득점모델 변수 중요도\n",
    "import seaborn as sns\n",
    "%matplotlib inline\n",
    " \n",
    "ftr_importances_values = rf_run.feature_importances_\n",
    "ftr_importances = pd.Series(ftr_importances_values, index=X_train11.columns)\n",
    "ftr_top = ftr_importances.sort_values(ascending=False)[:10]\n",
    " \n",
    "plt.figure(figsize=(8, 6))\n",
    "plt.barh( df_all_2.columns[ftr_top.index],ftr_top)\n",
    "plt.show()"
   ]
  },
  {
   "cell_type": "code",
   "execution_count": 89,
   "id": "dcac429c",
   "metadata": {},
   "outputs": [
    {
     "data": {
      "text/plain": [
       "Index(['한국의대중국수출', '한국의대베트남수출', '한국의대미국수출', '두바이유', '브렌트유', '서부텍사스중질유',\n",
       "       '한국의대홍콩수출', '일본과거수출액', '한국의대일본수출'],\n",
       "      dtype='object')"
      ]
     },
     "execution_count": 89,
     "metadata": {},
     "output_type": "execute_result"
    }
   ],
   "source": [
    "df_all_2.columns[ftr_top.index]"
   ]
  },
  {
   "cell_type": "code",
   "execution_count": 90,
   "id": "ad6175fb",
   "metadata": {},
   "outputs": [
    {
     "data": {
      "text/plain": [
       "0    0.837988\n",
       "2    0.095508\n",
       "1    0.026555\n",
       "5    0.016441\n",
       "6    0.009055\n",
       "7    0.009016\n",
       "3    0.003269\n",
       "8    0.001389\n",
       "4    0.000779\n",
       "dtype: float64"
      ]
     },
     "execution_count": 90,
     "metadata": {},
     "output_type": "execute_result"
    }
   ],
   "source": [
    "ftr_top"
   ]
  }
 ],
 "metadata": {
  "kernelspec": {
   "display_name": "Python 3 (ipykernel)",
   "language": "python",
   "name": "python3"
  },
  "language_info": {
   "codemirror_mode": {
    "name": "ipython",
    "version": 3
   },
   "file_extension": ".py",
   "mimetype": "text/x-python",
   "name": "python",
   "nbconvert_exporter": "python",
   "pygments_lexer": "ipython3",
   "version": "3.9.12"
  }
 },
 "nbformat": 4,
 "nbformat_minor": 5
}

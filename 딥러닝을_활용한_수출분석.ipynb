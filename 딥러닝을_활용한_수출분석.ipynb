{
  "nbformat": 4,
  "nbformat_minor": 0,
  "metadata": {
    "colab": {
      "name": "딥러닝을 활용한 수출분석.ipynb",
      "provenance": []
    },
    "kernelspec": {
      "name": "python3",
      "display_name": "Python 3"
    },
    "language_info": {
      "name": "python"
    }
  },
  "cells": [
    {
      "cell_type": "code",
      "execution_count": 1,
      "metadata": {
        "id": "4L74OaKdnYAq"
      },
      "outputs": [],
      "source": [
        "import pandas as pd\n",
        "from matplotlib import pyplot as plt\n",
        "import numpy as np\n"
      ]
    },
    {
      "cell_type": "code",
      "source": [
        "df_1=pd.read_excel('통합 문서1.xlsx')\n",
        "df_2=pd.read_excel(\"일본 수출액 1980~2001.xlsx\")\n",
        "df_3=pd.read_excel('국제유가 2000~2021.xlsx')\n",
        "df_2=df_2.transpose()\n",
        "df_2=df_2.reset_index()\n",
        "df_2.drop(0, axis=0,inplace=True)\n",
        "df_2.rename(columns={'index':'기간',1:'수출액'},inplace=True)"
      ],
      "metadata": {
        "colab": {
          "base_uri": "https://localhost:8080/"
        },
        "id": "u-V3iEzwn67l",
        "outputId": "1ff52912-e553-412f-879b-0652fc2a0c51"
      },
      "execution_count": 2,
      "outputs": [
        {
          "output_type": "stream",
          "name": "stderr",
          "text": [
            "/usr/local/lib/python3.7/dist-packages/openpyxl/styles/stylesheet.py:226: UserWarning: Workbook contains no default style, apply openpyxl's default\n",
            "  warn(\"Workbook contains no default style, apply openpyxl's default\")\n"
          ]
        }
      ]
    },
    {
      "cell_type": "code",
      "source": [
        "df_2['기간']=pd.to_datetime(df_2['기간'])"
      ],
      "metadata": {
        "id": "bWdXLmT9oGl_"
      },
      "execution_count": 3,
      "outputs": []
    },
    {
      "cell_type": "code",
      "source": [
        "df_2['수출액']=df_2['수출액']*1000\n"
      ],
      "metadata": {
        "id": "dl8YE4D1oJUZ"
      },
      "execution_count": 4,
      "outputs": []
    },
    {
      "cell_type": "code",
      "source": [
        "from sklearn import preprocessing"
      ],
      "metadata": {
        "id": "Sx4ayBn_oLWo"
      },
      "execution_count": 5,
      "outputs": []
    },
    {
      "cell_type": "code",
      "source": [
        "!pip install openpyxl\n"
      ],
      "metadata": {
        "colab": {
          "base_uri": "https://localhost:8080/"
        },
        "id": "1vYAKxHPoOlX",
        "outputId": "c1f74ba5-1663-4d65-db93-9ce03040186d"
      },
      "execution_count": 6,
      "outputs": [
        {
          "output_type": "stream",
          "name": "stdout",
          "text": [
            "Looking in indexes: https://pypi.org/simple, https://us-python.pkg.dev/colab-wheels/public/simple/\n",
            "Requirement already satisfied: openpyxl in /usr/local/lib/python3.7/dist-packages (3.0.10)\n",
            "Requirement already satisfied: et-xmlfile in /usr/local/lib/python3.7/dist-packages (from openpyxl) (1.1.0)\n"
          ]
        }
      ]
    },
    {
      "cell_type": "code",
      "source": [
        "df_all_1 = df_1.copy()\n"
      ],
      "metadata": {
        "id": "AUbmtpEQoaaz"
      },
      "execution_count": 7,
      "outputs": []
    },
    {
      "cell_type": "code",
      "source": [
        "df_all_1=pd.concat([df_all_1,df_3.drop(['년도'], axis=1)],axis=1)\n"
      ],
      "metadata": {
        "id": "gRr-hQA7obk-"
      },
      "execution_count": 8,
      "outputs": []
    },
    {
      "cell_type": "code",
      "source": [
        "df_2.reset_index(inplace=True)\n"
      ],
      "metadata": {
        "id": "JEz9edcmocm1"
      },
      "execution_count": 9,
      "outputs": []
    },
    {
      "cell_type": "code",
      "source": [
        "df_all_1['일본과거수출액']=df_2['수출액']\n"
      ],
      "metadata": {
        "id": "rNLERn4rodyT"
      },
      "execution_count": 10,
      "outputs": []
    },
    {
      "cell_type": "code",
      "source": [
        "df_all_1.info()\n"
      ],
      "metadata": {
        "colab": {
          "base_uri": "https://localhost:8080/"
        },
        "id": "QCNlLqq4ofAP",
        "outputId": "bfa610fc-2294-458e-df9c-6285ac9ad75b"
      },
      "execution_count": 11,
      "outputs": [
        {
          "output_type": "stream",
          "name": "stdout",
          "text": [
            "<class 'pandas.core.frame.DataFrame'>\n",
            "RangeIndex: 264 entries, 0 to 263\n",
            "Data columns (total 11 columns):\n",
            " #   Column     Non-Null Count  Dtype         \n",
            "---  ------     --------------  -----         \n",
            " 0   기간         264 non-null    datetime64[ns]\n",
            " 1   한국 수출금액    264 non-null    int64         \n",
            " 2   한국의대중국수출   264 non-null    int64         \n",
            " 3   한국의대미국수출   264 non-null    int64         \n",
            " 4   한국의대베트남수출  264 non-null    int64         \n",
            " 5   한국의대홍콩수출   264 non-null    int64         \n",
            " 6   한국의대일본수출   264 non-null    int64         \n",
            " 7   두바이유       264 non-null    float64       \n",
            " 8   브렌트유       264 non-null    float64       \n",
            " 9   서부텍사스중질유   264 non-null    float64       \n",
            " 10  일본과거수출액    264 non-null    object        \n",
            "dtypes: datetime64[ns](1), float64(3), int64(6), object(1)\n",
            "memory usage: 22.8+ KB\n"
          ]
        }
      ]
    },
    {
      "cell_type": "code",
      "source": [
        "df_all_1=df_all_1.astype({'일본과거수출액':'float64'})\n"
      ],
      "metadata": {
        "id": "t1z5phKRokJe"
      },
      "execution_count": 12,
      "outputs": []
    },
    {
      "cell_type": "code",
      "source": [
        "df_all_1.corr(method='pearson', min_periods=1)\n"
      ],
      "metadata": {
        "colab": {
          "base_uri": "https://localhost:8080/",
          "height": 546
        },
        "id": "fiCWX1kzolvg",
        "outputId": "b4671ee3-138d-4aec-9e80-79367a31cfcc"
      },
      "execution_count": 13,
      "outputs": [
        {
          "output_type": "execute_result",
          "data": {
            "text/plain": [
              "            한국 수출금액  한국의대중국수출  한국의대미국수출  한국의대베트남수출  한국의대홍콩수출  한국의대일본수출  \\\n",
              "한국 수출금액    1.000000  0.986205  0.883147   0.782272  0.898647  0.788045   \n",
              "한국의대중국수출   0.986205  1.000000  0.865766   0.786733  0.905776  0.750390   \n",
              "한국의대미국수출   0.883147  0.865766  1.000000   0.897149  0.828548  0.560782   \n",
              "한국의대베트남수출  0.782272  0.786733  0.897149   1.000000  0.827196  0.354092   \n",
              "한국의대홍콩수출   0.898647  0.905776  0.828548   0.827196  1.000000  0.630457   \n",
              "한국의대일본수출   0.788045  0.750390  0.560782   0.354092  0.630457  1.000000   \n",
              "두바이유       0.666850  0.642421  0.351308   0.153356  0.456478  0.862311   \n",
              "브렌트유       0.646012  0.620352  0.328573   0.121639  0.434715  0.861803   \n",
              "서부텍사스중질유   0.595222  0.568208  0.279063   0.066312  0.372287  0.800735   \n",
              "일본과거수출액    0.830371  0.840734  0.785905   0.762865  0.735185  0.479597   \n",
              "\n",
              "               두바이유      브렌트유  서부텍사스중질유   일본과거수출액  \n",
              "한국 수출금액    0.666850  0.646012  0.595222  0.830371  \n",
              "한국의대중국수출   0.642421  0.620352  0.568208  0.840734  \n",
              "한국의대미국수출   0.351308  0.328573  0.279063  0.785905  \n",
              "한국의대베트남수출  0.153356  0.121639  0.066312  0.762865  \n",
              "한국의대홍콩수출   0.456478  0.434715  0.372287  0.735185  \n",
              "한국의대일본수출   0.862311  0.861803  0.800735  0.479597  \n",
              "두바이유       1.000000  0.996699  0.977844  0.371899  \n",
              "브렌트유       0.996699  1.000000  0.983405  0.341595  \n",
              "서부텍사스중질유   0.977844  0.983405  1.000000  0.307975  \n",
              "일본과거수출액    0.371899  0.341595  0.307975  1.000000  "
            ],
            "text/html": [
              "\n",
              "  <div id=\"df-e7e8d2eb-15c5-49ac-b2ac-c70ce1d3b0d4\">\n",
              "    <div class=\"colab-df-container\">\n",
              "      <div>\n",
              "<style scoped>\n",
              "    .dataframe tbody tr th:only-of-type {\n",
              "        vertical-align: middle;\n",
              "    }\n",
              "\n",
              "    .dataframe tbody tr th {\n",
              "        vertical-align: top;\n",
              "    }\n",
              "\n",
              "    .dataframe thead th {\n",
              "        text-align: right;\n",
              "    }\n",
              "</style>\n",
              "<table border=\"1\" class=\"dataframe\">\n",
              "  <thead>\n",
              "    <tr style=\"text-align: right;\">\n",
              "      <th></th>\n",
              "      <th>한국 수출금액</th>\n",
              "      <th>한국의대중국수출</th>\n",
              "      <th>한국의대미국수출</th>\n",
              "      <th>한국의대베트남수출</th>\n",
              "      <th>한국의대홍콩수출</th>\n",
              "      <th>한국의대일본수출</th>\n",
              "      <th>두바이유</th>\n",
              "      <th>브렌트유</th>\n",
              "      <th>서부텍사스중질유</th>\n",
              "      <th>일본과거수출액</th>\n",
              "    </tr>\n",
              "  </thead>\n",
              "  <tbody>\n",
              "    <tr>\n",
              "      <th>한국 수출금액</th>\n",
              "      <td>1.000000</td>\n",
              "      <td>0.986205</td>\n",
              "      <td>0.883147</td>\n",
              "      <td>0.782272</td>\n",
              "      <td>0.898647</td>\n",
              "      <td>0.788045</td>\n",
              "      <td>0.666850</td>\n",
              "      <td>0.646012</td>\n",
              "      <td>0.595222</td>\n",
              "      <td>0.830371</td>\n",
              "    </tr>\n",
              "    <tr>\n",
              "      <th>한국의대중국수출</th>\n",
              "      <td>0.986205</td>\n",
              "      <td>1.000000</td>\n",
              "      <td>0.865766</td>\n",
              "      <td>0.786733</td>\n",
              "      <td>0.905776</td>\n",
              "      <td>0.750390</td>\n",
              "      <td>0.642421</td>\n",
              "      <td>0.620352</td>\n",
              "      <td>0.568208</td>\n",
              "      <td>0.840734</td>\n",
              "    </tr>\n",
              "    <tr>\n",
              "      <th>한국의대미국수출</th>\n",
              "      <td>0.883147</td>\n",
              "      <td>0.865766</td>\n",
              "      <td>1.000000</td>\n",
              "      <td>0.897149</td>\n",
              "      <td>0.828548</td>\n",
              "      <td>0.560782</td>\n",
              "      <td>0.351308</td>\n",
              "      <td>0.328573</td>\n",
              "      <td>0.279063</td>\n",
              "      <td>0.785905</td>\n",
              "    </tr>\n",
              "    <tr>\n",
              "      <th>한국의대베트남수출</th>\n",
              "      <td>0.782272</td>\n",
              "      <td>0.786733</td>\n",
              "      <td>0.897149</td>\n",
              "      <td>1.000000</td>\n",
              "      <td>0.827196</td>\n",
              "      <td>0.354092</td>\n",
              "      <td>0.153356</td>\n",
              "      <td>0.121639</td>\n",
              "      <td>0.066312</td>\n",
              "      <td>0.762865</td>\n",
              "    </tr>\n",
              "    <tr>\n",
              "      <th>한국의대홍콩수출</th>\n",
              "      <td>0.898647</td>\n",
              "      <td>0.905776</td>\n",
              "      <td>0.828548</td>\n",
              "      <td>0.827196</td>\n",
              "      <td>1.000000</td>\n",
              "      <td>0.630457</td>\n",
              "      <td>0.456478</td>\n",
              "      <td>0.434715</td>\n",
              "      <td>0.372287</td>\n",
              "      <td>0.735185</td>\n",
              "    </tr>\n",
              "    <tr>\n",
              "      <th>한국의대일본수출</th>\n",
              "      <td>0.788045</td>\n",
              "      <td>0.750390</td>\n",
              "      <td>0.560782</td>\n",
              "      <td>0.354092</td>\n",
              "      <td>0.630457</td>\n",
              "      <td>1.000000</td>\n",
              "      <td>0.862311</td>\n",
              "      <td>0.861803</td>\n",
              "      <td>0.800735</td>\n",
              "      <td>0.479597</td>\n",
              "    </tr>\n",
              "    <tr>\n",
              "      <th>두바이유</th>\n",
              "      <td>0.666850</td>\n",
              "      <td>0.642421</td>\n",
              "      <td>0.351308</td>\n",
              "      <td>0.153356</td>\n",
              "      <td>0.456478</td>\n",
              "      <td>0.862311</td>\n",
              "      <td>1.000000</td>\n",
              "      <td>0.996699</td>\n",
              "      <td>0.977844</td>\n",
              "      <td>0.371899</td>\n",
              "    </tr>\n",
              "    <tr>\n",
              "      <th>브렌트유</th>\n",
              "      <td>0.646012</td>\n",
              "      <td>0.620352</td>\n",
              "      <td>0.328573</td>\n",
              "      <td>0.121639</td>\n",
              "      <td>0.434715</td>\n",
              "      <td>0.861803</td>\n",
              "      <td>0.996699</td>\n",
              "      <td>1.000000</td>\n",
              "      <td>0.983405</td>\n",
              "      <td>0.341595</td>\n",
              "    </tr>\n",
              "    <tr>\n",
              "      <th>서부텍사스중질유</th>\n",
              "      <td>0.595222</td>\n",
              "      <td>0.568208</td>\n",
              "      <td>0.279063</td>\n",
              "      <td>0.066312</td>\n",
              "      <td>0.372287</td>\n",
              "      <td>0.800735</td>\n",
              "      <td>0.977844</td>\n",
              "      <td>0.983405</td>\n",
              "      <td>1.000000</td>\n",
              "      <td>0.307975</td>\n",
              "    </tr>\n",
              "    <tr>\n",
              "      <th>일본과거수출액</th>\n",
              "      <td>0.830371</td>\n",
              "      <td>0.840734</td>\n",
              "      <td>0.785905</td>\n",
              "      <td>0.762865</td>\n",
              "      <td>0.735185</td>\n",
              "      <td>0.479597</td>\n",
              "      <td>0.371899</td>\n",
              "      <td>0.341595</td>\n",
              "      <td>0.307975</td>\n",
              "      <td>1.000000</td>\n",
              "    </tr>\n",
              "  </tbody>\n",
              "</table>\n",
              "</div>\n",
              "      <button class=\"colab-df-convert\" onclick=\"convertToInteractive('df-e7e8d2eb-15c5-49ac-b2ac-c70ce1d3b0d4')\"\n",
              "              title=\"Convert this dataframe to an interactive table.\"\n",
              "              style=\"display:none;\">\n",
              "        \n",
              "  <svg xmlns=\"http://www.w3.org/2000/svg\" height=\"24px\"viewBox=\"0 0 24 24\"\n",
              "       width=\"24px\">\n",
              "    <path d=\"M0 0h24v24H0V0z\" fill=\"none\"/>\n",
              "    <path d=\"M18.56 5.44l.94 2.06.94-2.06 2.06-.94-2.06-.94-.94-2.06-.94 2.06-2.06.94zm-11 1L8.5 8.5l.94-2.06 2.06-.94-2.06-.94L8.5 2.5l-.94 2.06-2.06.94zm10 10l.94 2.06.94-2.06 2.06-.94-2.06-.94-.94-2.06-.94 2.06-2.06.94z\"/><path d=\"M17.41 7.96l-1.37-1.37c-.4-.4-.92-.59-1.43-.59-.52 0-1.04.2-1.43.59L10.3 9.45l-7.72 7.72c-.78.78-.78 2.05 0 2.83L4 21.41c.39.39.9.59 1.41.59.51 0 1.02-.2 1.41-.59l7.78-7.78 2.81-2.81c.8-.78.8-2.07 0-2.86zM5.41 20L4 18.59l7.72-7.72 1.47 1.35L5.41 20z\"/>\n",
              "  </svg>\n",
              "      </button>\n",
              "      \n",
              "  <style>\n",
              "    .colab-df-container {\n",
              "      display:flex;\n",
              "      flex-wrap:wrap;\n",
              "      gap: 12px;\n",
              "    }\n",
              "\n",
              "    .colab-df-convert {\n",
              "      background-color: #E8F0FE;\n",
              "      border: none;\n",
              "      border-radius: 50%;\n",
              "      cursor: pointer;\n",
              "      display: none;\n",
              "      fill: #1967D2;\n",
              "      height: 32px;\n",
              "      padding: 0 0 0 0;\n",
              "      width: 32px;\n",
              "    }\n",
              "\n",
              "    .colab-df-convert:hover {\n",
              "      background-color: #E2EBFA;\n",
              "      box-shadow: 0px 1px 2px rgba(60, 64, 67, 0.3), 0px 1px 3px 1px rgba(60, 64, 67, 0.15);\n",
              "      fill: #174EA6;\n",
              "    }\n",
              "\n",
              "    [theme=dark] .colab-df-convert {\n",
              "      background-color: #3B4455;\n",
              "      fill: #D2E3FC;\n",
              "    }\n",
              "\n",
              "    [theme=dark] .colab-df-convert:hover {\n",
              "      background-color: #434B5C;\n",
              "      box-shadow: 0px 1px 3px 1px rgba(0, 0, 0, 0.15);\n",
              "      filter: drop-shadow(0px 1px 2px rgba(0, 0, 0, 0.3));\n",
              "      fill: #FFFFFF;\n",
              "    }\n",
              "  </style>\n",
              "\n",
              "      <script>\n",
              "        const buttonEl =\n",
              "          document.querySelector('#df-e7e8d2eb-15c5-49ac-b2ac-c70ce1d3b0d4 button.colab-df-convert');\n",
              "        buttonEl.style.display =\n",
              "          google.colab.kernel.accessAllowed ? 'block' : 'none';\n",
              "\n",
              "        async function convertToInteractive(key) {\n",
              "          const element = document.querySelector('#df-e7e8d2eb-15c5-49ac-b2ac-c70ce1d3b0d4');\n",
              "          const dataTable =\n",
              "            await google.colab.kernel.invokeFunction('convertToInteractive',\n",
              "                                                     [key], {});\n",
              "          if (!dataTable) return;\n",
              "\n",
              "          const docLinkHtml = 'Like what you see? Visit the ' +\n",
              "            '<a target=\"_blank\" href=https://colab.research.google.com/notebooks/data_table.ipynb>data table notebook</a>'\n",
              "            + ' to learn more about interactive tables.';\n",
              "          element.innerHTML = '';\n",
              "          dataTable['output_type'] = 'display_data';\n",
              "          await google.colab.output.renderOutput(dataTable, element);\n",
              "          const docLink = document.createElement('div');\n",
              "          docLink.innerHTML = docLinkHtml;\n",
              "          element.appendChild(docLink);\n",
              "        }\n",
              "      </script>\n",
              "    </div>\n",
              "  </div>\n",
              "  "
            ]
          },
          "metadata": {},
          "execution_count": 13
        }
      ]
    },
    {
      "cell_type": "code",
      "source": [
        "from sklearn.preprocessing import MinMaxScaler\n"
      ],
      "metadata": {
        "id": "ySnnjAeBotyf"
      },
      "execution_count": 14,
      "outputs": []
    },
    {
      "cell_type": "code",
      "source": [
        "import pandas as pd\n",
        "import numpy as np\n",
        "from sklearn.linear_model import LinearRegression\n",
        "from sklearn.model_selection import train_test_split\n",
        "from sklearn.preprocessing import OneHotEncoder\n",
        "from sklearn.metrics import mean_squared_error, r2_score\n",
        "import seaborn as sns\n",
        "import lightgbm as lgb"
      ],
      "metadata": {
        "id": "PjBz0YCKovUZ"
      },
      "execution_count": 15,
      "outputs": []
    },
    {
      "cell_type": "code",
      "source": [
        "from sklearn.metrics import mean_squared_error\n"
      ],
      "metadata": {
        "id": "qN5Jm3vBq9UR"
      },
      "execution_count": 16,
      "outputs": []
    },
    {
      "cell_type": "code",
      "source": [
        "df_all_2=df_all_1.drop([df_all_1.columns[0],'한국 수출금액'], axis=1)\n"
      ],
      "metadata": {
        "id": "O2BJ3-glqysA"
      },
      "execution_count": 17,
      "outputs": []
    },
    {
      "cell_type": "code",
      "source": [
        "label1=df_all_1['한국 수출금액']"
      ],
      "metadata": {
        "id": "Jd3wggeKrBBL"
      },
      "execution_count": 20,
      "outputs": []
    },
    {
      "cell_type": "code",
      "source": [
        "scaler = MinMaxScaler()\n",
        "\n",
        "# MinMaxScaler로 데이터 세트 변환, fit()과 transform() 호출\n",
        "scaler.fit(df_all_2)\n",
        "df_scaled = scaler.transform(df_all_2)\n",
        "\n",
        "# transform() 결과는 ndarraay, 데이터 프레임으로 변환\n",
        "df_all_scaled = pd.DataFrame(df_scaled)"
      ],
      "metadata": {
        "id": "ReUVlaw3rlL8"
      },
      "execution_count": 22,
      "outputs": []
    },
    {
      "cell_type": "code",
      "source": [
        "train_x, test_x, train_y, test_y = train_test_split(df_all_scaled, label1, test_size=0.2, random_state=42)\n"
      ],
      "metadata": {
        "id": "68LBprSdrRUA"
      },
      "execution_count": 23,
      "outputs": []
    },
    {
      "cell_type": "code",
      "source": [
        "df_all_scaled\n"
      ],
      "metadata": {
        "colab": {
          "base_uri": "https://localhost:8080/",
          "height": 424
        },
        "id": "67lOCsoRryku",
        "outputId": "8be6bb9d-c7aa-4fac-9031-664da5696748"
      },
      "execution_count": 24,
      "outputs": [
        {
          "output_type": "execute_result",
          "data": {
            "text/plain": [
              "            0         1         2         3         4         5         6  \\\n",
              "0    0.000000  0.052474  0.002700  0.029286  0.186491  0.051276  0.063578   \n",
              "1    0.002687  0.043965  0.003181  0.039095  0.174155  0.062389  0.081243   \n",
              "2    0.014330  0.104167  0.010015  0.059744  0.273487  0.049171  0.040247   \n",
              "3    0.009333  0.066008  0.013458  0.048341  0.198118  0.041340  0.034497   \n",
              "4    0.030341  0.137965  0.013506  0.053956  0.231263  0.064242  0.081160   \n",
              "..        ...       ...       ...       ...       ...       ...       ...   \n",
              "259  0.896420  0.833844  0.861163  0.649629  0.550941  0.433359  0.432881   \n",
              "260  0.925529  0.876745  0.906682  0.752395  0.557709  0.488507  0.495625   \n",
              "261  0.934311  0.889452  0.871056  0.490351  0.585351  0.539362  0.538538   \n",
              "262  0.995037  0.899706  0.974878  0.606464  0.659860  0.446998  0.420465   \n",
              "263  1.000000  1.000000  1.000000  0.656330  0.622082  0.493391  0.484710   \n",
              "\n",
              "            7         8  \n",
              "0    0.072631  0.001235  \n",
              "1    0.095659  0.029641  \n",
              "2    0.066524  0.040517  \n",
              "3    0.056949  0.015473  \n",
              "4    0.083939  0.021746  \n",
              "..        ...       ...  \n",
              "259  0.409871  0.592813  \n",
              "260  0.463767  0.644495  \n",
              "261  0.534252  0.606282  \n",
              "262  0.390723  0.662599  \n",
              "263  0.479944  0.564020  \n",
              "\n",
              "[264 rows x 9 columns]"
            ],
            "text/html": [
              "\n",
              "  <div id=\"df-4e3ba9af-ed3d-42a5-82d4-072ff271f7d1\">\n",
              "    <div class=\"colab-df-container\">\n",
              "      <div>\n",
              "<style scoped>\n",
              "    .dataframe tbody tr th:only-of-type {\n",
              "        vertical-align: middle;\n",
              "    }\n",
              "\n",
              "    .dataframe tbody tr th {\n",
              "        vertical-align: top;\n",
              "    }\n",
              "\n",
              "    .dataframe thead th {\n",
              "        text-align: right;\n",
              "    }\n",
              "</style>\n",
              "<table border=\"1\" class=\"dataframe\">\n",
              "  <thead>\n",
              "    <tr style=\"text-align: right;\">\n",
              "      <th></th>\n",
              "      <th>0</th>\n",
              "      <th>1</th>\n",
              "      <th>2</th>\n",
              "      <th>3</th>\n",
              "      <th>4</th>\n",
              "      <th>5</th>\n",
              "      <th>6</th>\n",
              "      <th>7</th>\n",
              "      <th>8</th>\n",
              "    </tr>\n",
              "  </thead>\n",
              "  <tbody>\n",
              "    <tr>\n",
              "      <th>0</th>\n",
              "      <td>0.000000</td>\n",
              "      <td>0.052474</td>\n",
              "      <td>0.002700</td>\n",
              "      <td>0.029286</td>\n",
              "      <td>0.186491</td>\n",
              "      <td>0.051276</td>\n",
              "      <td>0.063578</td>\n",
              "      <td>0.072631</td>\n",
              "      <td>0.001235</td>\n",
              "    </tr>\n",
              "    <tr>\n",
              "      <th>1</th>\n",
              "      <td>0.002687</td>\n",
              "      <td>0.043965</td>\n",
              "      <td>0.003181</td>\n",
              "      <td>0.039095</td>\n",
              "      <td>0.174155</td>\n",
              "      <td>0.062389</td>\n",
              "      <td>0.081243</td>\n",
              "      <td>0.095659</td>\n",
              "      <td>0.029641</td>\n",
              "    </tr>\n",
              "    <tr>\n",
              "      <th>2</th>\n",
              "      <td>0.014330</td>\n",
              "      <td>0.104167</td>\n",
              "      <td>0.010015</td>\n",
              "      <td>0.059744</td>\n",
              "      <td>0.273487</td>\n",
              "      <td>0.049171</td>\n",
              "      <td>0.040247</td>\n",
              "      <td>0.066524</td>\n",
              "      <td>0.040517</td>\n",
              "    </tr>\n",
              "    <tr>\n",
              "      <th>3</th>\n",
              "      <td>0.009333</td>\n",
              "      <td>0.066008</td>\n",
              "      <td>0.013458</td>\n",
              "      <td>0.048341</td>\n",
              "      <td>0.198118</td>\n",
              "      <td>0.041340</td>\n",
              "      <td>0.034497</td>\n",
              "      <td>0.056949</td>\n",
              "      <td>0.015473</td>\n",
              "    </tr>\n",
              "    <tr>\n",
              "      <th>4</th>\n",
              "      <td>0.030341</td>\n",
              "      <td>0.137965</td>\n",
              "      <td>0.013506</td>\n",
              "      <td>0.053956</td>\n",
              "      <td>0.231263</td>\n",
              "      <td>0.064242</td>\n",
              "      <td>0.081160</td>\n",
              "      <td>0.083939</td>\n",
              "      <td>0.021746</td>\n",
              "    </tr>\n",
              "    <tr>\n",
              "      <th>...</th>\n",
              "      <td>...</td>\n",
              "      <td>...</td>\n",
              "      <td>...</td>\n",
              "      <td>...</td>\n",
              "      <td>...</td>\n",
              "      <td>...</td>\n",
              "      <td>...</td>\n",
              "      <td>...</td>\n",
              "      <td>...</td>\n",
              "    </tr>\n",
              "    <tr>\n",
              "      <th>259</th>\n",
              "      <td>0.896420</td>\n",
              "      <td>0.833844</td>\n",
              "      <td>0.861163</td>\n",
              "      <td>0.649629</td>\n",
              "      <td>0.550941</td>\n",
              "      <td>0.433359</td>\n",
              "      <td>0.432881</td>\n",
              "      <td>0.409871</td>\n",
              "      <td>0.592813</td>\n",
              "    </tr>\n",
              "    <tr>\n",
              "      <th>260</th>\n",
              "      <td>0.925529</td>\n",
              "      <td>0.876745</td>\n",
              "      <td>0.906682</td>\n",
              "      <td>0.752395</td>\n",
              "      <td>0.557709</td>\n",
              "      <td>0.488507</td>\n",
              "      <td>0.495625</td>\n",
              "      <td>0.463767</td>\n",
              "      <td>0.644495</td>\n",
              "    </tr>\n",
              "    <tr>\n",
              "      <th>261</th>\n",
              "      <td>0.934311</td>\n",
              "      <td>0.889452</td>\n",
              "      <td>0.871056</td>\n",
              "      <td>0.490351</td>\n",
              "      <td>0.585351</td>\n",
              "      <td>0.539362</td>\n",
              "      <td>0.538538</td>\n",
              "      <td>0.534252</td>\n",
              "      <td>0.606282</td>\n",
              "    </tr>\n",
              "    <tr>\n",
              "      <th>262</th>\n",
              "      <td>0.995037</td>\n",
              "      <td>0.899706</td>\n",
              "      <td>0.974878</td>\n",
              "      <td>0.606464</td>\n",
              "      <td>0.659860</td>\n",
              "      <td>0.446998</td>\n",
              "      <td>0.420465</td>\n",
              "      <td>0.390723</td>\n",
              "      <td>0.662599</td>\n",
              "    </tr>\n",
              "    <tr>\n",
              "      <th>263</th>\n",
              "      <td>1.000000</td>\n",
              "      <td>1.000000</td>\n",
              "      <td>1.000000</td>\n",
              "      <td>0.656330</td>\n",
              "      <td>0.622082</td>\n",
              "      <td>0.493391</td>\n",
              "      <td>0.484710</td>\n",
              "      <td>0.479944</td>\n",
              "      <td>0.564020</td>\n",
              "    </tr>\n",
              "  </tbody>\n",
              "</table>\n",
              "<p>264 rows × 9 columns</p>\n",
              "</div>\n",
              "      <button class=\"colab-df-convert\" onclick=\"convertToInteractive('df-4e3ba9af-ed3d-42a5-82d4-072ff271f7d1')\"\n",
              "              title=\"Convert this dataframe to an interactive table.\"\n",
              "              style=\"display:none;\">\n",
              "        \n",
              "  <svg xmlns=\"http://www.w3.org/2000/svg\" height=\"24px\"viewBox=\"0 0 24 24\"\n",
              "       width=\"24px\">\n",
              "    <path d=\"M0 0h24v24H0V0z\" fill=\"none\"/>\n",
              "    <path d=\"M18.56 5.44l.94 2.06.94-2.06 2.06-.94-2.06-.94-.94-2.06-.94 2.06-2.06.94zm-11 1L8.5 8.5l.94-2.06 2.06-.94-2.06-.94L8.5 2.5l-.94 2.06-2.06.94zm10 10l.94 2.06.94-2.06 2.06-.94-2.06-.94-.94-2.06-.94 2.06-2.06.94z\"/><path d=\"M17.41 7.96l-1.37-1.37c-.4-.4-.92-.59-1.43-.59-.52 0-1.04.2-1.43.59L10.3 9.45l-7.72 7.72c-.78.78-.78 2.05 0 2.83L4 21.41c.39.39.9.59 1.41.59.51 0 1.02-.2 1.41-.59l7.78-7.78 2.81-2.81c.8-.78.8-2.07 0-2.86zM5.41 20L4 18.59l7.72-7.72 1.47 1.35L5.41 20z\"/>\n",
              "  </svg>\n",
              "      </button>\n",
              "      \n",
              "  <style>\n",
              "    .colab-df-container {\n",
              "      display:flex;\n",
              "      flex-wrap:wrap;\n",
              "      gap: 12px;\n",
              "    }\n",
              "\n",
              "    .colab-df-convert {\n",
              "      background-color: #E8F0FE;\n",
              "      border: none;\n",
              "      border-radius: 50%;\n",
              "      cursor: pointer;\n",
              "      display: none;\n",
              "      fill: #1967D2;\n",
              "      height: 32px;\n",
              "      padding: 0 0 0 0;\n",
              "      width: 32px;\n",
              "    }\n",
              "\n",
              "    .colab-df-convert:hover {\n",
              "      background-color: #E2EBFA;\n",
              "      box-shadow: 0px 1px 2px rgba(60, 64, 67, 0.3), 0px 1px 3px 1px rgba(60, 64, 67, 0.15);\n",
              "      fill: #174EA6;\n",
              "    }\n",
              "\n",
              "    [theme=dark] .colab-df-convert {\n",
              "      background-color: #3B4455;\n",
              "      fill: #D2E3FC;\n",
              "    }\n",
              "\n",
              "    [theme=dark] .colab-df-convert:hover {\n",
              "      background-color: #434B5C;\n",
              "      box-shadow: 0px 1px 3px 1px rgba(0, 0, 0, 0.15);\n",
              "      filter: drop-shadow(0px 1px 2px rgba(0, 0, 0, 0.3));\n",
              "      fill: #FFFFFF;\n",
              "    }\n",
              "  </style>\n",
              "\n",
              "      <script>\n",
              "        const buttonEl =\n",
              "          document.querySelector('#df-4e3ba9af-ed3d-42a5-82d4-072ff271f7d1 button.colab-df-convert');\n",
              "        buttonEl.style.display =\n",
              "          google.colab.kernel.accessAllowed ? 'block' : 'none';\n",
              "\n",
              "        async function convertToInteractive(key) {\n",
              "          const element = document.querySelector('#df-4e3ba9af-ed3d-42a5-82d4-072ff271f7d1');\n",
              "          const dataTable =\n",
              "            await google.colab.kernel.invokeFunction('convertToInteractive',\n",
              "                                                     [key], {});\n",
              "          if (!dataTable) return;\n",
              "\n",
              "          const docLinkHtml = 'Like what you see? Visit the ' +\n",
              "            '<a target=\"_blank\" href=https://colab.research.google.com/notebooks/data_table.ipynb>data table notebook</a>'\n",
              "            + ' to learn more about interactive tables.';\n",
              "          element.innerHTML = '';\n",
              "          dataTable['output_type'] = 'display_data';\n",
              "          await google.colab.output.renderOutput(dataTable, element);\n",
              "          const docLink = document.createElement('div');\n",
              "          docLink.innerHTML = docLinkHtml;\n",
              "          element.appendChild(docLink);\n",
              "        }\n",
              "      </script>\n",
              "    </div>\n",
              "  </div>\n",
              "  "
            ]
          },
          "metadata": {},
          "execution_count": 24
        }
      ]
    },
    {
      "cell_type": "code",
      "source": [
        "import tensorflow as tf\n",
        "import numpy as np\n",
        "import matplotlib.pyplot as plt\n",
        "import math"
      ],
      "metadata": {
        "id": "5eyPmiH5r6Mh"
      },
      "execution_count": 45,
      "outputs": []
    },
    {
      "cell_type": "code",
      "source": [
        "# 4.13 Boston Housing Dataset 회귀 모델 생성\n",
        "model = tf.keras.Sequential([\n",
        "    tf.keras.layers.Dense(units=52, activation='relu', input_shape=(9,)),\n",
        "    tf.keras.layers.Dense(units=39, activation='relu'),\n",
        "    tf.keras.layers.Dense(units=26, activation='relu'),\n",
        "    tf.keras.layers.Dense(units=1)\n",
        "])\n",
        "\n",
        "model.compile(optimizer=tf.keras.optimizers.Adam(lr=0.07), loss='mse')\n",
        "\n",
        "model.summary()\n",
        "\n",
        "history = model.fit(train_x, train_y, epochs=40, batch_size=32, validation_data=(test_x, test_y))\n",
        "\n",
        "# 4.15 회귀 모델 학습 결과 시각화\n",
        "plt.plot(history.history['loss'], 'b-', label='loss')\n",
        "plt.plot(history.history['val_loss'], 'r--', label='val_loss')\n",
        "plt.xlabel('Epoch')\n",
        "plt.legend()\n",
        "plt.show()"
      ],
      "metadata": {
        "colab": {
          "base_uri": "https://localhost:8080/",
          "height": 1000
        },
        "id": "e3fKYJIQuoSJ",
        "outputId": "2e2dc974-cef6-4cf3-c3b2-dcefa942d9e2"
      },
      "execution_count": 49,
      "outputs": [
        {
          "output_type": "stream",
          "name": "stdout",
          "text": [
            "Model: \"sequential_7\"\n",
            "_________________________________________________________________\n",
            " Layer (type)                Output Shape              Param #   \n",
            "=================================================================\n",
            " dense_28 (Dense)            (None, 52)                520       \n",
            "                                                                 \n",
            " dense_29 (Dense)            (None, 39)                2067      \n",
            "                                                                 \n",
            " dense_30 (Dense)            (None, 26)                1040      \n",
            "                                                                 \n",
            " dense_31 (Dense)            (None, 1)                 27        \n",
            "                                                                 \n",
            "=================================================================\n",
            "Total params: 3,654\n",
            "Trainable params: 3,654\n",
            "Non-trainable params: 0\n",
            "_________________________________________________________________\n",
            "Epoch 1/40\n"
          ]
        },
        {
          "output_type": "stream",
          "name": "stderr",
          "text": [
            "/usr/local/lib/python3.7/dist-packages/keras/optimizer_v2/adam.py:105: UserWarning: The `lr` argument is deprecated, use `learning_rate` instead.\n",
            "  super(Adam, self).__init__(name, **kwargs)\n"
          ]
        },
        {
          "output_type": "stream",
          "name": "stdout",
          "text": [
            "7/7 [==============================] - 1s 27ms/step - loss: 1426883351239142146048.0000 - val_loss: 1390099356857663488000.0000\n",
            "Epoch 2/40\n",
            "7/7 [==============================] - 0s 6ms/step - loss: 1426883210501653790720.0000 - val_loss: 1390098934645198422016.0000\n",
            "Epoch 3/40\n",
            "7/7 [==============================] - 0s 7ms/step - loss: 1426881803126770237440.0000 - val_loss: 1390096119895431315456.0000\n",
            "Epoch 4/40\n",
            "7/7 [==============================] - 0s 7ms/step - loss: 1426876595839701090304.0000 - val_loss: 1390086127533758087168.0000\n",
            "Epoch 5/40\n",
            "7/7 [==============================] - 0s 6ms/step - loss: 1426860129553563516928.0000 - val_loss: 1390057557823621955584.0000\n",
            "Epoch 6/40\n",
            "7/7 [==============================] - 0s 6ms/step - loss: 1426817908307056918528.0000 - val_loss: 1389990285304188108800.0000\n",
            "Epoch 7/40\n",
            "7/7 [==============================] - 0s 7ms/step - loss: 1426720517965115031552.0000 - val_loss: 1389849266340856070144.0000\n",
            "Epoch 8/40\n",
            "7/7 [==============================] - 0s 7ms/step - loss: 1426522500318999085056.0000 - val_loss: 1389580598475585748992.0000\n",
            "Epoch 9/40\n",
            "7/7 [==============================] - 0s 6ms/step - loss: 1426174034297831292928.0000 - val_loss: 1389109268627083755520.0000\n",
            "Epoch 10/40\n",
            "7/7 [==============================] - 0s 7ms/step - loss: 1425583499796692336640.0000 - val_loss: 1388335634653594517504.0000\n",
            "Epoch 11/40\n",
            "7/7 [==============================] - 0s 6ms/step - loss: 1424605233515134451712.0000 - val_loss: 1387121492341553102848.0000\n",
            "Epoch 12/40\n",
            "7/7 [==============================] - 0s 6ms/step - loss: 1423118482688148766720.0000 - val_loss: 1385288949505678376960.0000\n",
            "Epoch 13/40\n",
            "7/7 [==============================] - 0s 6ms/step - loss: 1420897082171948269568.0000 - val_loss: 1382628025813344190464.0000\n",
            "Epoch 14/40\n",
            "7/7 [==============================] - 0s 6ms/step - loss: 1417661245839682568192.0000 - val_loss: 1378899326796858130432.0000\n",
            "Epoch 15/40\n",
            "7/7 [==============================] - 0s 11ms/step - loss: 1413283887739366801408.0000 - val_loss: 1373809555530487693312.0000\n",
            "Epoch 16/40\n",
            "7/7 [==============================] - 0s 21ms/step - loss: 1407581345448697266176.0000 - val_loss: 1366992513069532315648.0000\n",
            "Epoch 17/40\n",
            "7/7 [==============================] - 0s 26ms/step - loss: 1399499213704915845120.0000 - val_loss: 1358276921890663563264.0000\n",
            "Epoch 18/40\n",
            "7/7 [==============================] - 0s 26ms/step - loss: 1389629293646556692480.0000 - val_loss: 1346983019925125201920.0000\n",
            "Epoch 19/40\n",
            "7/7 [==============================] - 0s 18ms/step - loss: 1376846529791707316224.0000 - val_loss: 1332786829474723266560.0000\n",
            "Epoch 20/40\n",
            "7/7 [==============================] - 0s 10ms/step - loss: 1361005118102431596544.0000 - val_loss: 1315226450102675570688.0000\n",
            "Epoch 21/40\n",
            "7/7 [==============================] - 0s 17ms/step - loss: 1341705223374312046592.0000 - val_loss: 1293849410783919734784.0000\n",
            "Epoch 22/40\n",
            "7/7 [==============================] - 0s 8ms/step - loss: 1317203952551556284416.0000 - val_loss: 1268656274468409180160.0000\n",
            "Epoch 23/40\n",
            "7/7 [==============================] - 0s 6ms/step - loss: 1289347218531432792064.0000 - val_loss: 1238329316052672970752.0000\n",
            "Epoch 24/40\n",
            "7/7 [==============================] - 0s 7ms/step - loss: 1255467342222166327296.0000 - val_loss: 1202852632200526954496.0000\n",
            "Epoch 25/40\n",
            "7/7 [==============================] - 0s 7ms/step - loss: 1217225870411279892480.0000 - val_loss: 1161530416769542389760.0000\n",
            "Epoch 26/40\n",
            "7/7 [==============================] - 0s 6ms/step - loss: 1172501466936793628672.0000 - val_loss: 1114725702110931845120.0000\n",
            "Epoch 27/40\n",
            "7/7 [==============================] - 0s 7ms/step - loss: 1120433592426158882816.0000 - val_loss: 1062569374088865775616.0000\n",
            "Epoch 28/40\n",
            "7/7 [==============================] - 0s 8ms/step - loss: 1065244864111244738560.0000 - val_loss: 1003732237494572285952.0000\n",
            "Epoch 29/40\n",
            "7/7 [==============================] - 0s 8ms/step - loss: 1004239314665116532736.0000 - val_loss: 938924312956804005888.0000\n",
            "Epoch 30/40\n",
            "7/7 [==============================] - 0s 6ms/step - loss: 934236699063408918528.0000 - val_loss: 870692808277304016896.0000\n",
            "Epoch 31/40\n",
            "7/7 [==============================] - 0s 7ms/step - loss: 860948214952325283840.0000 - val_loss: 797288778688280657920.0000\n",
            "Epoch 32/40\n",
            "7/7 [==============================] - 0s 7ms/step - loss: 784520229319755169792.0000 - val_loss: 718856269009065607168.0000\n",
            "Epoch 33/40\n",
            "7/7 [==============================] - 0s 6ms/step - loss: 701383076511054036992.0000 - val_loss: 638219176943508520960.0000\n",
            "Epoch 34/40\n",
            "7/7 [==============================] - 0s 7ms/step - loss: 617281942275863085056.0000 - val_loss: 556358548338562301952.0000\n",
            "Epoch 35/40\n",
            "7/7 [==============================] - 0s 7ms/step - loss: 533811523094736535552.0000 - val_loss: 474555586919469678592.0000\n",
            "Epoch 36/40\n",
            "7/7 [==============================] - 0s 8ms/step - loss: 449242929291973361664.0000 - val_loss: 395805819757129629696.0000\n",
            "Epoch 37/40\n",
            "7/7 [==============================] - 0s 6ms/step - loss: 371778728717015056384.0000 - val_loss: 319703535856985833472.0000\n",
            "Epoch 38/40\n",
            "7/7 [==============================] - 0s 7ms/step - loss: 296108121878029139968.0000 - val_loss: 250931704775317651456.0000\n",
            "Epoch 39/40\n",
            "7/7 [==============================] - 0s 7ms/step - loss: 226875410706369347584.0000 - val_loss: 191045123914730569728.0000\n",
            "Epoch 40/40\n",
            "7/7 [==============================] - 0s 6ms/step - loss: 169257852409604997120.0000 - val_loss: 139595482802161713152.0000\n"
          ]
        },
        {
          "output_type": "display_data",
          "data": {
            "text/plain": [
              "<Figure size 432x288 with 1 Axes>"
            ],
            "image/png": "[encoded data removed]"
          },
          "metadata": {
            "needs_background": "light"
          }
        }
      ]
    },
    {
      "cell_type": "code",
      "source": [
        "# 4.13 Boston Housing Dataset 회귀 모델 생성\n",
        "model = tf.keras.Sequential([\n",
        "    tf.keras.layers.Dense(units=52, activation='relu', input_shape=(9,)),\n",
        "    tf.keras.layers.Dense(units=39, activation='relu'),\n",
        "    tf.keras.layers.Dense(units=26, activation='relu'),\n",
        "    tf.keras.layers.Dense(units=1)\n",
        "])\n",
        "\n",
        "model.compile(optimizer=tf.keras.optimizers.Adam(lr=0.07), loss='mse')\n",
        "\n",
        "model.summary()\n",
        "\n",
        "history = model.fit(train_x, train_y, epochs=40, batch_size=32, validation_data=(test_x, test_y))\n",
        "\n",
        "# 4.15 회귀 모델 학습 결과 시각화\n",
        "plt.plot(history.history['loss'], 'b-', label='loss')\n",
        "plt.plot(history.history['val_loss'], 'r--', label='val_loss')\n",
        "plt.xlabel('Epoch')\n",
        "plt.legend()\n",
        "plt.show()"
      ],
      "metadata": {
        "id": "1cjnDuKbvO1A"
      },
      "execution_count": null,
      "outputs": []
    },
    {
      "cell_type": "code",
      "source": [
        "plt.plot(history.history['loss'], 'b-', label='loss')\n",
        "plt.plot(history.history['val_loss'], 'r--', label='val_loss')\n",
        "plt.xlabel('Epoch')\n",
        "plt.legend()\n",
        "plt.show()"
      ],
      "metadata": {
        "colab": {
          "base_uri": "https://localhost:8080/",
          "height": 290
        },
        "id": "8R5k9fnqtVc_",
        "outputId": "70ddbda6-03ec-407c-9432-f95ad312b31b"
      },
      "execution_count": 41,
      "outputs": [
        {
          "output_type": "display_data",
          "data": {
            "text/plain": [
              "<Figure size 432x288 with 1 Axes>"
            ],
            "image/png": "[encoded data removed]"
          },
          "metadata": {
            "needs_background": "light"
          }
        }
      ]
    }
  ]
}